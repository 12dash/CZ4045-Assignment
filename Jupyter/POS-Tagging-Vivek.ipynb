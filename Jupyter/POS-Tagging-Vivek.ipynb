{
 "cells": [
  {
   "cell_type": "code",
   "execution_count": 13,
   "id": "258764b1",
   "metadata": {},
   "outputs": [],
   "source": [
    "import nltk\n",
    "import pandas as pd\n",
    "import numpy as np\n",
    "from nltk.tokenize import word_tokenize \n",
    "import spacy\n",
    "import en_core_web_sm\n",
    "from operator import itemgetter"
   ]
  },
  {
   "cell_type": "code",
   "execution_count": 28,
   "id": "53cdc3f8",
   "metadata": {},
   "outputs": [],
   "source": [
    "nlp = spacy.load(\"en_core_web_sm\")"
   ]
  },
  {
   "cell_type": "code",
   "execution_count": 22,
   "id": "966ed9cd",
   "metadata": {},
   "outputs": [
    {
     "name": "stdout",
     "output_type": "stream",
     "text": [
      "showing info https://raw.githubusercontent.com/nltk/nltk_data/gh-pages/index.xml\n"
     ]
    },
    {
     "data": {
      "text/plain": [
       "True"
      ]
     },
     "execution_count": 22,
     "metadata": {},
     "output_type": "execute_result"
    }
   ],
   "source": [
    "import nltk\n",
    "import ssl\n",
    "\n",
    "try:\n",
    "    _create_unverified_https_context = ssl._create_unverified_context\n",
    "except AttributeError:\n",
    "    pass\n",
    "else:\n",
    "    ssl._create_default_https_context = _create_unverified_https_context\n",
    "\n",
    "nltk.download()"
   ]
  },
  {
   "cell_type": "code",
   "execution_count": 5,
   "id": "49b71932",
   "metadata": {},
   "outputs": [
    {
     "data": {
      "text/html": [
       "<div>\n",
       "<style scoped>\n",
       "    .dataframe tbody tr th:only-of-type {\n",
       "        vertical-align: middle;\n",
       "    }\n",
       "\n",
       "    .dataframe tbody tr th {\n",
       "        vertical-align: top;\n",
       "    }\n",
       "\n",
       "    .dataframe thead th {\n",
       "        text-align: right;\n",
       "    }\n",
       "</style>\n",
       "<table border=\"1\" class=\"dataframe\">\n",
       "  <thead>\n",
       "    <tr style=\"text-align: right;\">\n",
       "      <th></th>\n",
       "      <th>review_id</th>\n",
       "      <th>user_id</th>\n",
       "      <th>business_id</th>\n",
       "      <th>stars</th>\n",
       "      <th>useful</th>\n",
       "      <th>funny</th>\n",
       "      <th>cool</th>\n",
       "      <th>text</th>\n",
       "      <th>date</th>\n",
       "    </tr>\n",
       "  </thead>\n",
       "  <tbody>\n",
       "    <tr>\n",
       "      <th>0</th>\n",
       "      <td>8aoJJdKEO3ypoZNszpPu7Q</td>\n",
       "      <td>bGgAL09pxLnV_FFgR4ZADg</td>\n",
       "      <td>ZBE-H_aUlicix_9vUGQPIQ</td>\n",
       "      <td>5.0</td>\n",
       "      <td>0</td>\n",
       "      <td>0</td>\n",
       "      <td>0</td>\n",
       "      <td>We had my Mother's Birthday Party here on 10/2...</td>\n",
       "      <td>2016-11-09 20:07:25</td>\n",
       "    </tr>\n",
       "    <tr>\n",
       "      <th>1</th>\n",
       "      <td>J5NOCLdhuhor7USRhtYZ8w</td>\n",
       "      <td>pFCb-1j6oI3TDjr26h2cJQ</td>\n",
       "      <td>e-YnECeZNt8ngm0tu4X9mQ</td>\n",
       "      <td>4.0</td>\n",
       "      <td>0</td>\n",
       "      <td>0</td>\n",
       "      <td>0</td>\n",
       "      <td>Good Korean grill near Eaton Centre. The marin...</td>\n",
       "      <td>2015-12-05 05:06:43</td>\n",
       "    </tr>\n",
       "    <tr>\n",
       "      <th>2</th>\n",
       "      <td>PXiLWAYRt3xnHaJ8MB4rzw</td>\n",
       "      <td>mEzc6LeTNiQgIVsq3poMbg</td>\n",
       "      <td>j7HO1YeMQGYo3KibMXZ5vg</td>\n",
       "      <td>5.0</td>\n",
       "      <td>2</td>\n",
       "      <td>1</td>\n",
       "      <td>3</td>\n",
       "      <td>Was recommended to try this place by few peopl...</td>\n",
       "      <td>2014-10-11 05:16:15</td>\n",
       "    </tr>\n",
       "    <tr>\n",
       "      <th>3</th>\n",
       "      <td>VrLarvxZYJm74yAqtpe9PQ</td>\n",
       "      <td>o-zUN2WEZgjQS7jnNsec0g</td>\n",
       "      <td>7e3PZzUpG5FYOTGt3O3ePA</td>\n",
       "      <td>3.0</td>\n",
       "      <td>0</td>\n",
       "      <td>0</td>\n",
       "      <td>0</td>\n",
       "      <td>Ambience: Would not expect something this nice...</td>\n",
       "      <td>2016-07-25 03:45:26</td>\n",
       "    </tr>\n",
       "    <tr>\n",
       "      <th>4</th>\n",
       "      <td>C1CUpidlVFprUCkApqzCmA</td>\n",
       "      <td>Wlx0iBXJvk4x0EeOt2Bz1Q</td>\n",
       "      <td>vuHzLZ7nAeT-EiecOkS5Og</td>\n",
       "      <td>1.0</td>\n",
       "      <td>11</td>\n",
       "      <td>0</td>\n",
       "      <td>3</td>\n",
       "      <td>Absolutely the WORST pool company that I have ...</td>\n",
       "      <td>2016-04-11 18:49:11</td>\n",
       "    </tr>\n",
       "  </tbody>\n",
       "</table>\n",
       "</div>"
      ],
      "text/plain": [
       "                review_id                 user_id             business_id  \\\n",
       "0  8aoJJdKEO3ypoZNszpPu7Q  bGgAL09pxLnV_FFgR4ZADg  ZBE-H_aUlicix_9vUGQPIQ   \n",
       "1  J5NOCLdhuhor7USRhtYZ8w  pFCb-1j6oI3TDjr26h2cJQ  e-YnECeZNt8ngm0tu4X9mQ   \n",
       "2  PXiLWAYRt3xnHaJ8MB4rzw  mEzc6LeTNiQgIVsq3poMbg  j7HO1YeMQGYo3KibMXZ5vg   \n",
       "3  VrLarvxZYJm74yAqtpe9PQ  o-zUN2WEZgjQS7jnNsec0g  7e3PZzUpG5FYOTGt3O3ePA   \n",
       "4  C1CUpidlVFprUCkApqzCmA  Wlx0iBXJvk4x0EeOt2Bz1Q  vuHzLZ7nAeT-EiecOkS5Og   \n",
       "\n",
       "   stars  useful  funny  cool  \\\n",
       "0    5.0       0      0     0   \n",
       "1    4.0       0      0     0   \n",
       "2    5.0       2      1     3   \n",
       "3    3.0       0      0     0   \n",
       "4    1.0      11      0     3   \n",
       "\n",
       "                                                text                 date  \n",
       "0  We had my Mother's Birthday Party here on 10/2...  2016-11-09 20:07:25  \n",
       "1  Good Korean grill near Eaton Centre. The marin...  2015-12-05 05:06:43  \n",
       "2  Was recommended to try this place by few peopl...  2014-10-11 05:16:15  \n",
       "3  Ambience: Would not expect something this nice...  2016-07-25 03:45:26  \n",
       "4  Absolutely the WORST pool company that I have ...  2016-04-11 18:49:11  "
      ]
     },
     "execution_count": 5,
     "metadata": {},
     "output_type": "execute_result"
    }
   ],
   "source": [
    "# Read from csv\n",
    "rev_df = pd.read_csv('../Data/review.csv')\n",
    "rev_df.head()"
   ]
  },
  {
   "cell_type": "code",
   "execution_count": 7,
   "id": "24fa5322",
   "metadata": {},
   "outputs": [],
   "source": [
    "import random\n",
    "indices = random.sample(range(0, rev_df.shape[0]), 5)"
   ]
  },
  {
   "cell_type": "code",
   "execution_count": 14,
   "id": "fa3db30d",
   "metadata": {},
   "outputs": [],
   "source": [
    "reviews = list(rev_df['text'])\n",
    "res_list = list(itemgetter(*indices)(reviews))"
   ]
  },
  {
   "cell_type": "code",
   "execution_count": 36,
   "id": "89978114",
   "metadata": {},
   "outputs": [
    {
     "name": "stdout",
     "output_type": "stream",
     "text": [
      "Sentence  1 :\n",
      "The view is amazing but the food is all crap.\n",
      "\n",
      "Sentence  2 :\n",
      "Been here more times than I can count now, it's become a regular stop for my family especially on weeknights.\n",
      "\n",
      "Sentence  3 :\n",
      "Maybe it was an off day, but I thought the food today was not very good at all.\n",
      "\n",
      "Sentence  4 :\n",
      "We were able to get in quickly with a party of 4 & no reservations on a busy Friday night during a busy volleyball tournament weekend!\n",
      "\n",
      "Sentence  5 :\n",
      "Great food.\n",
      "\n"
     ]
    }
   ],
   "source": [
    "sentences = []\n",
    "for i in range(len(res_list)):\n",
    "    tokens = nltk.sent_tokenize(res_list[i])\n",
    "    sentences.append(tokens[0])\n",
    "    print(\"Sentence \",i+1,\":\")\n",
    "    print(sentences[i])\n",
    "    print()"
   ]
  },
  {
   "cell_type": "code",
   "execution_count": 39,
   "id": "1baafc86",
   "metadata": {},
   "outputs": [
    {
     "name": "stdout",
     "output_type": "stream",
     "text": [
      "Sentence  1 :\n",
      "The DET view NOUN is AUX amazing ADJ but CCONJ the DET food NOUN is VERB all ADV crap ADJ . PUNCT \n",
      "\n",
      "Sentence  2 :\n",
      "Been VERB here ADV more ADJ times NOUN than SCONJ I PRON can AUX count VERB now ADV , PUNCT it PRON 's AUX become VERB a DET regular ADJ stop NOUN for ADP my PRON family NOUN especially ADV on ADP weeknights NOUN . PUNCT \n",
      "\n",
      "Sentence  3 :\n",
      "Maybe ADV it PRON was AUX an DET off ADJ day NOUN , PUNCT but CCONJ I PRON thought VERB the DET food NOUN today NOUN was AUX not PART very ADV good ADJ at ADV all ADV . PUNCT \n",
      "\n",
      "Sentence  4 :\n",
      "We PRON were AUX able ADJ to PART get VERB in ADP quickly ADV with ADP a DET party NOUN of ADP 4 NUM & CCONJ no DET reservations NOUN on ADP a DET busy ADJ Friday PROPN night NOUN during ADP a DET busy ADJ volleyball NOUN tournament NOUN weekend NOUN ! PUNCT \n",
      "\n",
      "Sentence  5 :\n",
      "Great ADJ food NOUN . PUNCT \n",
      "\n"
     ]
    }
   ],
   "source": [
    "count = 0\n",
    "for i in sentences:\n",
    "    print(\"Sentence \",count+1,\":\")\n",
    "    text = i\n",
    "    doc = nlp(text)\n",
    "\n",
    "    # Token and Tag\n",
    "    for token in doc:\n",
    "        print(token, token.pos_,\"\",end = '')\n",
    "    print()\n",
    "    print()\n",
    "    count +=1"
   ]
  },
  {
   "cell_type": "code",
   "execution_count": 44,
   "id": "824121f6",
   "metadata": {},
   "outputs": [
    {
     "name": "stdout",
     "output_type": "stream",
     "text": [
      "Sentence  1 :\n",
      "The DT view NN is VBZ amazing VBG but CC the DT food NN is VBZ all DT crap NN . . \n",
      "\n",
      "Sentence  2 :\n",
      "Been NNP here RB more RBR times NNS than IN I PRP can MD count VB now RB , , it PRP 's VBZ become VBN a DT regular JJ stop NN for IN my PRP$ family NN especially RB on IN weeknights NNS . . \n",
      "\n",
      "Sentence  3 :\n",
      "Maybe RB it PRP was VBD an DT off JJ day NN , , but CC I PRP thought VBD the DT food NN today NN was VBD not RB very RB good JJ at IN all DT . . \n",
      "\n",
      "Sentence  4 :\n",
      "We PRP were VBD able JJ to TO get VB in IN quickly RB with IN a DT party NN of IN 4 CD & CC no DT reservations NNS on IN a DT busy JJ Friday NNP night NN during IN a DT busy JJ volleyball NN tournament NN weekend NN ! . \n",
      "\n",
      "Sentence  5 :\n",
      "Great JJ food NN . . \n",
      "\n"
     ]
    }
   ],
   "source": [
    "count = 0\n",
    "for i in sentences:\n",
    "    print(\"Sentence \",count+1,\":\")\n",
    "    text = i\n",
    "    tokens = nltk.word_tokenize(text)\n",
    "    pos = nltk.pos_tag(tokens)\n",
    "#     print(pos)\n",
    "    for j in pos:\n",
    "        print(j[0],j[1],\"\",end ='')\n",
    "    print()\n",
    "    print()\n",
    "    count +=1"
   ]
  },
  {
   "cell_type": "code",
   "execution_count": null,
   "id": "d690be4d",
   "metadata": {},
   "outputs": [],
   "source": []
  }
 ],
 "metadata": {
  "kernelspec": {
   "display_name": "Python 3 (ipykernel)",
   "language": "python",
   "name": "python3"
  },
  "language_info": {
   "codemirror_mode": {
    "name": "ipython",
    "version": 3
   },
   "file_extension": ".py",
   "mimetype": "text/x-python",
   "name": "python",
   "nbconvert_exporter": "python",
   "pygments_lexer": "ipython3",
   "version": "3.9.1"
  }
 },
 "nbformat": 4,
 "nbformat_minor": 5
}
