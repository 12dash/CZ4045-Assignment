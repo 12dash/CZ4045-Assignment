{
 "cells": [
  {
   "cell_type": "code",
   "execution_count": 14,
   "source": [
    "import nltk\r\n",
    "import pandas as pd\r\n",
    "import numpy as np\r\n",
    "\r\n",
    "from nltk.tokenize import word_tokenize "
   ],
   "outputs": [],
   "metadata": {}
  },
  {
   "cell_type": "code",
   "execution_count": 4,
   "source": [
    "# Read from csv\r\n",
    "rev_df = pd.read_csv('../Data/review.csv')\r\n",
    "rev_df.head()"
   ],
   "outputs": [
    {
     "output_type": "execute_result",
     "data": {
      "text/html": [
       "<div>\n",
       "<style scoped>\n",
       "    .dataframe tbody tr th:only-of-type {\n",
       "        vertical-align: middle;\n",
       "    }\n",
       "\n",
       "    .dataframe tbody tr th {\n",
       "        vertical-align: top;\n",
       "    }\n",
       "\n",
       "    .dataframe thead th {\n",
       "        text-align: right;\n",
       "    }\n",
       "</style>\n",
       "<table border=\"1\" class=\"dataframe\">\n",
       "  <thead>\n",
       "    <tr style=\"text-align: right;\">\n",
       "      <th></th>\n",
       "      <th>review_id</th>\n",
       "      <th>user_id</th>\n",
       "      <th>business_id</th>\n",
       "      <th>stars</th>\n",
       "      <th>useful</th>\n",
       "      <th>funny</th>\n",
       "      <th>cool</th>\n",
       "      <th>text</th>\n",
       "      <th>date</th>\n",
       "    </tr>\n",
       "  </thead>\n",
       "  <tbody>\n",
       "    <tr>\n",
       "      <th>0</th>\n",
       "      <td>8aoJJdKEO3ypoZNszpPu7Q</td>\n",
       "      <td>bGgAL09pxLnV_FFgR4ZADg</td>\n",
       "      <td>ZBE-H_aUlicix_9vUGQPIQ</td>\n",
       "      <td>5.0</td>\n",
       "      <td>0</td>\n",
       "      <td>0</td>\n",
       "      <td>0</td>\n",
       "      <td>We had my Mother's Birthday Party here on 10/2...</td>\n",
       "      <td>2016-11-09 20:07:25</td>\n",
       "    </tr>\n",
       "    <tr>\n",
       "      <th>1</th>\n",
       "      <td>J5NOCLdhuhor7USRhtYZ8w</td>\n",
       "      <td>pFCb-1j6oI3TDjr26h2cJQ</td>\n",
       "      <td>e-YnECeZNt8ngm0tu4X9mQ</td>\n",
       "      <td>4.0</td>\n",
       "      <td>0</td>\n",
       "      <td>0</td>\n",
       "      <td>0</td>\n",
       "      <td>Good Korean grill near Eaton Centre. The marin...</td>\n",
       "      <td>2015-12-05 05:06:43</td>\n",
       "    </tr>\n",
       "    <tr>\n",
       "      <th>2</th>\n",
       "      <td>PXiLWAYRt3xnHaJ8MB4rzw</td>\n",
       "      <td>mEzc6LeTNiQgIVsq3poMbg</td>\n",
       "      <td>j7HO1YeMQGYo3KibMXZ5vg</td>\n",
       "      <td>5.0</td>\n",
       "      <td>2</td>\n",
       "      <td>1</td>\n",
       "      <td>3</td>\n",
       "      <td>Was recommended to try this place by few peopl...</td>\n",
       "      <td>2014-10-11 05:16:15</td>\n",
       "    </tr>\n",
       "    <tr>\n",
       "      <th>3</th>\n",
       "      <td>VrLarvxZYJm74yAqtpe9PQ</td>\n",
       "      <td>o-zUN2WEZgjQS7jnNsec0g</td>\n",
       "      <td>7e3PZzUpG5FYOTGt3O3ePA</td>\n",
       "      <td>3.0</td>\n",
       "      <td>0</td>\n",
       "      <td>0</td>\n",
       "      <td>0</td>\n",
       "      <td>Ambience: Would not expect something this nice...</td>\n",
       "      <td>2016-07-25 03:45:26</td>\n",
       "    </tr>\n",
       "    <tr>\n",
       "      <th>4</th>\n",
       "      <td>C1CUpidlVFprUCkApqzCmA</td>\n",
       "      <td>Wlx0iBXJvk4x0EeOt2Bz1Q</td>\n",
       "      <td>vuHzLZ7nAeT-EiecOkS5Og</td>\n",
       "      <td>1.0</td>\n",
       "      <td>11</td>\n",
       "      <td>0</td>\n",
       "      <td>3</td>\n",
       "      <td>Absolutely the WORST pool company that I have ...</td>\n",
       "      <td>2016-04-11 18:49:11</td>\n",
       "    </tr>\n",
       "  </tbody>\n",
       "</table>\n",
       "</div>"
      ],
      "text/plain": [
       "                review_id                 user_id             business_id  \\\n",
       "0  8aoJJdKEO3ypoZNszpPu7Q  bGgAL09pxLnV_FFgR4ZADg  ZBE-H_aUlicix_9vUGQPIQ   \n",
       "1  J5NOCLdhuhor7USRhtYZ8w  pFCb-1j6oI3TDjr26h2cJQ  e-YnECeZNt8ngm0tu4X9mQ   \n",
       "2  PXiLWAYRt3xnHaJ8MB4rzw  mEzc6LeTNiQgIVsq3poMbg  j7HO1YeMQGYo3KibMXZ5vg   \n",
       "3  VrLarvxZYJm74yAqtpe9PQ  o-zUN2WEZgjQS7jnNsec0g  7e3PZzUpG5FYOTGt3O3ePA   \n",
       "4  C1CUpidlVFprUCkApqzCmA  Wlx0iBXJvk4x0EeOt2Bz1Q  vuHzLZ7nAeT-EiecOkS5Og   \n",
       "\n",
       "   stars  useful  funny  cool  \\\n",
       "0    5.0       0      0     0   \n",
       "1    4.0       0      0     0   \n",
       "2    5.0       2      1     3   \n",
       "3    3.0       0      0     0   \n",
       "4    1.0      11      0     3   \n",
       "\n",
       "                                                text                 date  \n",
       "0  We had my Mother's Birthday Party here on 10/2...  2016-11-09 20:07:25  \n",
       "1  Good Korean grill near Eaton Centre. The marin...  2015-12-05 05:06:43  \n",
       "2  Was recommended to try this place by few peopl...  2014-10-11 05:16:15  \n",
       "3  Ambience: Would not expect something this nice...  2016-07-25 03:45:26  \n",
       "4  Absolutely the WORST pool company that I have ...  2016-04-11 18:49:11  "
      ]
     },
     "metadata": {},
     "execution_count": 4
    }
   ],
   "metadata": {}
  },
  {
   "cell_type": "code",
   "execution_count": 8,
   "source": [
    "review_text = rev_df['text']\r\n",
    "print( review_text)\r\n",
    "\r\n",
    "a = review_text[0]\r\n",
    "a"
   ],
   "outputs": [
    {
     "output_type": "stream",
     "name": "stdout",
     "text": [
      "0        We had my Mother's Birthday Party here on 10/2...\n",
      "1        Good Korean grill near Eaton Centre. The marin...\n",
      "2        Was recommended to try this place by few peopl...\n",
      "3        Ambience: Would not expect something this nice...\n",
      "4        Absolutely the WORST pool company that I have ...\n",
      "                               ...                        \n",
      "15295    This was the worst experience ever. So much so...\n",
      "15296    We come here every time we hit Vegas! A giant ...\n",
      "15297    As locals we used  to the this place when it w...\n",
      "15298    The food was delicious. We were seated in 15 m...\n",
      "15299    Wonderful spot (the patio) and OH SO EXCELLENT...\n",
      "Name: text, Length: 15300, dtype: object\n"
     ]
    },
    {
     "output_type": "execute_result",
     "data": {
      "text/plain": [
       "\"We had my Mother's Birthday Party here on 10/29/16. What a Great time we all had. The food, music and waiters were Great!!! Thanks Lyles!!!\""
      ]
     },
     "metadata": {},
     "execution_count": 8
    }
   ],
   "metadata": {}
  },
  {
   "cell_type": "code",
   "execution_count": 20,
   "source": [
    "random_reviews = []\r\n",
    "random_reviews.append(review_text[69])\r\n",
    "random_reviews.append(review_text[420])\r\n",
    "random_reviews.append(review_text[0])\r\n",
    "random_reviews.append(review_text[1056])\r\n",
    "random_reviews.append(review_text[11604])"
   ],
   "outputs": [],
   "metadata": {}
  },
  {
   "cell_type": "code",
   "execution_count": 21,
   "source": [
    "random_reviews"
   ],
   "outputs": [
    {
     "output_type": "execute_result",
     "data": {
      "text/plain": [
       "['The food was fantastic ! The waitress picked up on us being vegan quickly without having to be told and made sure we had a great selection of food to eat .',\n",
       " \"Just happened to be walking around with my tummy growling and howling for some food.  Korean BBQ!?!?!  oOOoOOoOhhh...  Let me tell you, for an all-you-can-eat Korean BBQ that you cook directly on your table...Not too shabby!\\n\\nYou sit down, they hand you a menu with a la carte items, or you can pick the all-you-can-eat options...there are several, depending if you want fish or not and so on.  But what a reasonable price to pay and on top of that, they really don't care if you leave items you ordered behind.  Order as much as you want and as often as you want.  Busy grills at the center of the table all around and pretty chic modernized buffet.\\n\\nService is good and always coming around to either change your grill plate or refill an empty glass.\",\n",
       " \"We had my Mother's Birthday Party here on 10/29/16. What a Great time we all had. The food, music and waiters were Great!!! Thanks Lyles!!!\",\n",
       " \"There are some things we normally love about Outback.   We've been to quite a few Outbacks and there are some things we normally love about them.   Usually we visit for dinner and usually we order the ribeye. \\n\\nWe visited this Outback during lunch.  There were three of us.  We put in our appetizer order for the onion ring petals.  It was just an appetizer but we had a long wait for that appetizer.  Eventually a comment was made to the hostess that we were concerned since it'd already been a long wait that we'd be getting our lunch on top of the appetizer.  We didn't.  Eventually, the onion petals arrived.  \\n\\nThe potato soup served at our table was delicious.  It was ordered by two in our party.  One was a bowl and one was a cup.  Besides that two of us ordered the 1/2 ribeye melt.  We had expected au jus with it I think because we thought it was a french dip type sandwich.   It wasn't but the waiter brought us au jus anyway.  The au jus was very watered down and very cool -- not good with little flavor.  The sandwich was tough and just not that good either.  \\n\\nTiming turned out okay.  Waiter was also okay but when he brought the ticket he tried to spark a conversation with us while we were involved in our own conversation.  First it was about our plans for the day and then our plans for Easter.  I thought he'd never leave to go back to the kitchen.  That was awkward and we didn't like it.  It just didn't sit right.   We noticed on our bill that he had deducted the onion petals.  We still weren't thrilled with this Outback and doubt we would return here.\",\n",
       " \"I'm giving them 5 stars because I loved the crazy salmon roll and my hibachi chicken was NOT dry.  Whoever the chef is, hats off to you!\"]"
      ]
     },
     "metadata": {},
     "execution_count": 21
    }
   ],
   "metadata": {}
  },
  {
   "cell_type": "code",
   "execution_count": 24,
   "source": [
    " nltk.download('averaged_perceptron_tagger')"
   ],
   "outputs": [
    {
     "output_type": "stream",
     "name": "stderr",
     "text": [
      "[nltk_data] Downloading package averaged_perceptron_tagger to\n",
      "[nltk_data]     C:\\Users\\shiel\\AppData\\Roaming\\nltk_data...\n",
      "[nltk_data]   Package averaged_perceptron_tagger is already up-to-\n",
      "[nltk_data]       date!\n"
     ]
    },
    {
     "output_type": "execute_result",
     "data": {
      "text/plain": [
       "True"
      ]
     },
     "metadata": {},
     "execution_count": 24
    }
   ],
   "metadata": {}
  },
  {
   "cell_type": "code",
   "execution_count": 26,
   "source": [
    "pos_tag_list = []\r\n",
    "\r\n",
    "for review in random_reviews:\r\n",
    "  tokens = word_tokenize(review)\r\n",
    "  pos_tag_list.append(nltk.pos_tag(tokens))\r\n",
    "\r\n",
    "\r\n",
    "print(\"Pos Tag List \\n\", (pos_tag_list))\r\n",
    "\r\n"
   ],
   "outputs": [
    {
     "output_type": "stream",
     "name": "stdout",
     "text": [
      "Pos Tag List \n",
      " [[('The', 'DT'), ('food', 'NN'), ('was', 'VBD'), ('fantastic', 'JJ'), ('!', '.'), ('The', 'DT'), ('waitress', 'NN'), ('picked', 'VBD'), ('up', 'RP'), ('on', 'IN'), ('us', 'PRP'), ('being', 'VBG'), ('vegan', 'JJ'), ('quickly', 'RB'), ('without', 'IN'), ('having', 'VBG'), ('to', 'TO'), ('be', 'VB'), ('told', 'VBN'), ('and', 'CC'), ('made', 'VBN'), ('sure', 'NN'), ('we', 'PRP'), ('had', 'VBD'), ('a', 'DT'), ('great', 'JJ'), ('selection', 'NN'), ('of', 'IN'), ('food', 'NN'), ('to', 'TO'), ('eat', 'VB'), ('.', '.')], [('Just', 'RB'), ('happened', 'VBN'), ('to', 'TO'), ('be', 'VB'), ('walking', 'VBG'), ('around', 'IN'), ('with', 'IN'), ('my', 'PRP$'), ('tummy', 'NN'), ('growling', 'NN'), ('and', 'CC'), ('howling', 'NN'), ('for', 'IN'), ('some', 'DT'), ('food', 'NN'), ('.', '.'), ('Korean', 'JJ'), ('BBQ', 'NNP'), ('!', '.'), ('?', '.'), ('!', '.'), ('?', '.'), ('!', '.'), ('oOOoOOoOhhh', 'NN'), ('...', ':'), ('Let', 'VB'), ('me', 'PRP'), ('tell', 'VB'), ('you', 'PRP'), (',', ','), ('for', 'IN'), ('an', 'DT'), ('all-you-can-eat', 'JJ'), ('Korean', 'JJ'), ('BBQ', 'NNP'), ('that', 'IN'), ('you', 'PRP'), ('cook', 'VBP'), ('directly', 'RB'), ('on', 'IN'), ('your', 'PRP$'), ('table', 'NN'), ('...', ':'), ('Not', 'RB'), ('too', 'RB'), ('shabby', 'JJ'), ('!', '.'), ('You', 'PRP'), ('sit', 'VBP'), ('down', 'RP'), (',', ','), ('they', 'PRP'), ('hand', 'NN'), ('you', 'PRP'), ('a', 'DT'), ('menu', 'NN'), ('with', 'IN'), ('a', 'DT'), ('la', 'NN'), ('carte', 'NN'), ('items', 'NNS'), (',', ','), ('or', 'CC'), ('you', 'PRP'), ('can', 'MD'), ('pick', 'VB'), ('the', 'DT'), ('all-you-can-eat', 'NN'), ('options', 'NNS'), ('...', ':'), ('there', 'EX'), ('are', 'VBP'), ('several', 'JJ'), (',', ','), ('depending', 'VBG'), ('if', 'IN'), ('you', 'PRP'), ('want', 'VBP'), ('fish', 'JJ'), ('or', 'CC'), ('not', 'RB'), ('and', 'CC'), ('so', 'RB'), ('on', 'IN'), ('.', '.'), ('But', 'CC'), ('what', 'WP'), ('a', 'DT'), ('reasonable', 'JJ'), ('price', 'NN'), ('to', 'TO'), ('pay', 'VB'), ('and', 'CC'), ('on', 'IN'), ('top', 'NN'), ('of', 'IN'), ('that', 'DT'), (',', ','), ('they', 'PRP'), ('really', 'RB'), ('do', 'VBP'), (\"n't\", 'RB'), ('care', 'VB'), ('if', 'IN'), ('you', 'PRP'), ('leave', 'VBP'), ('items', 'NNS'), ('you', 'PRP'), ('ordered', 'VBD'), ('behind', 'RB'), ('.', '.'), ('Order', 'CC'), ('as', 'RB'), ('much', 'JJ'), ('as', 'IN'), ('you', 'PRP'), ('want', 'VBP'), ('and', 'CC'), ('as', 'RB'), ('often', 'RB'), ('as', 'IN'), ('you', 'PRP'), ('want', 'VBP'), ('.', '.'), ('Busy', 'JJ'), ('grills', 'NNS'), ('at', 'IN'), ('the', 'DT'), ('center', 'NN'), ('of', 'IN'), ('the', 'DT'), ('table', 'NN'), ('all', 'DT'), ('around', 'RB'), ('and', 'CC'), ('pretty', 'RB'), ('chic', 'JJ'), ('modernized', 'VBN'), ('buffet', 'NN'), ('.', '.'), ('Service', 'NNP'), ('is', 'VBZ'), ('good', 'JJ'), ('and', 'CC'), ('always', 'RB'), ('coming', 'VBG'), ('around', 'RB'), ('to', 'TO'), ('either', 'DT'), ('change', 'VB'), ('your', 'PRP$'), ('grill', 'NN'), ('plate', 'NN'), ('or', 'CC'), ('refill', 'VB'), ('an', 'DT'), ('empty', 'JJ'), ('glass', 'NN'), ('.', '.')], [('We', 'PRP'), ('had', 'VBD'), ('my', 'PRP$'), ('Mother', 'NNP'), (\"'s\", 'POS'), ('Birthday', 'NNP'), ('Party', 'NNP'), ('here', 'RB'), ('on', 'IN'), ('10/29/16', 'CD'), ('.', '.'), ('What', 'WP'), ('a', 'DT'), ('Great', 'JJ'), ('time', 'NN'), ('we', 'PRP'), ('all', 'DT'), ('had', 'VBD'), ('.', '.'), ('The', 'DT'), ('food', 'NN'), (',', ','), ('music', 'NN'), ('and', 'CC'), ('waiters', 'NNS'), ('were', 'VBD'), ('Great', 'JJ'), ('!', '.'), ('!', '.'), ('!', '.'), ('Thanks', 'NNS'), ('Lyles', 'VBZ'), ('!', '.'), ('!', '.'), ('!', '.')], [('There', 'EX'), ('are', 'VBP'), ('some', 'DT'), ('things', 'NNS'), ('we', 'PRP'), ('normally', 'RB'), ('love', 'VBP'), ('about', 'IN'), ('Outback', 'NNP'), ('.', '.'), ('We', 'PRP'), (\"'ve\", 'VBP'), ('been', 'VBN'), ('to', 'TO'), ('quite', 'VB'), ('a', 'DT'), ('few', 'JJ'), ('Outbacks', 'NNP'), ('and', 'CC'), ('there', 'EX'), ('are', 'VBP'), ('some', 'DT'), ('things', 'NNS'), ('we', 'PRP'), ('normally', 'RB'), ('love', 'VBP'), ('about', 'IN'), ('them', 'PRP'), ('.', '.'), ('Usually', 'RB'), ('we', 'PRP'), ('visit', 'VBP'), ('for', 'IN'), ('dinner', 'NN'), ('and', 'CC'), ('usually', 'RB'), ('we', 'PRP'), ('order', 'NN'), ('the', 'DT'), ('ribeye', 'NN'), ('.', '.'), ('We', 'PRP'), ('visited', 'VBD'), ('this', 'DT'), ('Outback', 'NNP'), ('during', 'IN'), ('lunch', 'NN'), ('.', '.'), ('There', 'EX'), ('were', 'VBD'), ('three', 'CD'), ('of', 'IN'), ('us', 'PRP'), ('.', '.'), ('We', 'PRP'), ('put', 'VBD'), ('in', 'IN'), ('our', 'PRP$'), ('appetizer', 'NN'), ('order', 'NN'), ('for', 'IN'), ('the', 'DT'), ('onion', 'NN'), ('ring', 'NN'), ('petals', 'NNS'), ('.', '.'), ('It', 'PRP'), ('was', 'VBD'), ('just', 'RB'), ('an', 'DT'), ('appetizer', 'NN'), ('but', 'CC'), ('we', 'PRP'), ('had', 'VBD'), ('a', 'DT'), ('long', 'JJ'), ('wait', 'NN'), ('for', 'IN'), ('that', 'DT'), ('appetizer', 'NN'), ('.', '.'), ('Eventually', 'RB'), ('a', 'DT'), ('comment', 'NN'), ('was', 'VBD'), ('made', 'VBN'), ('to', 'TO'), ('the', 'DT'), ('hostess', 'NN'), ('that', 'IN'), ('we', 'PRP'), ('were', 'VBD'), ('concerned', 'VBN'), ('since', 'IN'), ('it', 'PRP'), (\"'d\", 'MD'), ('already', 'RB'), ('been', 'VBN'), ('a', 'DT'), ('long', 'JJ'), ('wait', 'NN'), ('that', 'IN'), ('we', 'PRP'), (\"'d\", 'MD'), ('be', 'VB'), ('getting', 'VBG'), ('our', 'PRP$'), ('lunch', 'NN'), ('on', 'IN'), ('top', 'NN'), ('of', 'IN'), ('the', 'DT'), ('appetizer', 'NN'), ('.', '.'), ('We', 'PRP'), ('did', 'VBD'), (\"n't\", 'RB'), ('.', '.'), ('Eventually', 'RB'), (',', ','), ('the', 'DT'), ('onion', 'NN'), ('petals', 'NNS'), ('arrived', 'VBD'), ('.', '.'), ('The', 'DT'), ('potato', 'NN'), ('soup', 'NN'), ('served', 'VBD'), ('at', 'IN'), ('our', 'PRP$'), ('table', 'NN'), ('was', 'VBD'), ('delicious', 'JJ'), ('.', '.'), ('It', 'PRP'), ('was', 'VBD'), ('ordered', 'VBN'), ('by', 'IN'), ('two', 'CD'), ('in', 'IN'), ('our', 'PRP$'), ('party', 'NN'), ('.', '.'), ('One', 'CD'), ('was', 'VBD'), ('a', 'DT'), ('bowl', 'NN'), ('and', 'CC'), ('one', 'CD'), ('was', 'VBD'), ('a', 'DT'), ('cup', 'NN'), ('.', '.'), ('Besides', 'IN'), ('that', 'DT'), ('two', 'CD'), ('of', 'IN'), ('us', 'PRP'), ('ordered', 'VBD'), ('the', 'DT'), ('1/2', 'CD'), ('ribeye', 'NN'), ('melt', 'NN'), ('.', '.'), ('We', 'PRP'), ('had', 'VBD'), ('expected', 'VBN'), ('au', 'RB'), ('jus', 'NN'), ('with', 'IN'), ('it', 'PRP'), ('I', 'PRP'), ('think', 'VBP'), ('because', 'IN'), ('we', 'PRP'), ('thought', 'VBD'), ('it', 'PRP'), ('was', 'VBD'), ('a', 'DT'), ('french', 'JJ'), ('dip', 'NN'), ('type', 'NN'), ('sandwich', 'NN'), ('.', '.'), ('It', 'PRP'), ('was', 'VBD'), (\"n't\", 'RB'), ('but', 'CC'), ('the', 'DT'), ('waiter', 'NN'), ('brought', 'VBD'), ('us', 'PRP'), ('au', 'RP'), ('jus', 'JJ'), ('anyway', 'RB'), ('.', '.'), ('The', 'DT'), ('au', 'JJ'), ('jus', 'NN'), ('was', 'VBD'), ('very', 'RB'), ('watered', 'JJ'), ('down', 'RB'), ('and', 'CC'), ('very', 'RB'), ('cool', 'JJ'), ('--', ':'), ('not', 'RB'), ('good', 'JJ'), ('with', 'IN'), ('little', 'JJ'), ('flavor', 'NN'), ('.', '.'), ('The', 'DT'), ('sandwich', 'NN'), ('was', 'VBD'), ('tough', 'JJ'), ('and', 'CC'), ('just', 'RB'), ('not', 'RB'), ('that', 'IN'), ('good', 'JJ'), ('either', 'DT'), ('.', '.'), ('Timing', 'NN'), ('turned', 'VBD'), ('out', 'RP'), ('okay', 'NN'), ('.', '.'), ('Waiter', 'NNP'), ('was', 'VBD'), ('also', 'RB'), ('okay', 'RB'), ('but', 'CC'), ('when', 'WRB'), ('he', 'PRP'), ('brought', 'VBD'), ('the', 'DT'), ('ticket', 'NN'), ('he', 'PRP'), ('tried', 'VBD'), ('to', 'TO'), ('spark', 'VB'), ('a', 'DT'), ('conversation', 'NN'), ('with', 'IN'), ('us', 'PRP'), ('while', 'IN'), ('we', 'PRP'), ('were', 'VBD'), ('involved', 'VBN'), ('in', 'IN'), ('our', 'PRP$'), ('own', 'JJ'), ('conversation', 'NN'), ('.', '.'), ('First', 'NNP'), ('it', 'PRP'), ('was', 'VBD'), ('about', 'IN'), ('our', 'PRP$'), ('plans', 'NNS'), ('for', 'IN'), ('the', 'DT'), ('day', 'NN'), ('and', 'CC'), ('then', 'RB'), ('our', 'PRP$'), ('plans', 'NNS'), ('for', 'IN'), ('Easter', 'NNP'), ('.', '.'), ('I', 'PRP'), ('thought', 'VBD'), ('he', 'PRP'), (\"'d\", 'MD'), ('never', 'RB'), ('leave', 'VB'), ('to', 'TO'), ('go', 'VB'), ('back', 'RB'), ('to', 'TO'), ('the', 'DT'), ('kitchen', 'NN'), ('.', '.'), ('That', 'DT'), ('was', 'VBD'), ('awkward', 'RB'), ('and', 'CC'), ('we', 'PRP'), ('did', 'VBD'), (\"n't\", 'RB'), ('like', 'IN'), ('it', 'PRP'), ('.', '.'), ('It', 'PRP'), ('just', 'RB'), ('did', 'VBD'), (\"n't\", 'RB'), ('sit', 'VB'), ('right', 'RB'), ('.', '.'), ('We', 'PRP'), ('noticed', 'VBD'), ('on', 'IN'), ('our', 'PRP$'), ('bill', 'NN'), ('that', 'IN'), ('he', 'PRP'), ('had', 'VBD'), ('deducted', 'VBN'), ('the', 'DT'), ('onion', 'NN'), ('petals', 'NNS'), ('.', '.'), ('We', 'PRP'), ('still', 'RB'), ('were', 'VBD'), (\"n't\", 'RB'), ('thrilled', 'VBN'), ('with', 'IN'), ('this', 'DT'), ('Outback', 'NNP'), ('and', 'CC'), ('doubt', 'NN'), ('we', 'PRP'), ('would', 'MD'), ('return', 'VB'), ('here', 'RB'), ('.', '.')], [('I', 'PRP'), (\"'m\", 'VBP'), ('giving', 'VBG'), ('them', 'PRP'), ('5', 'CD'), ('stars', 'NNS'), ('because', 'IN'), ('I', 'PRP'), ('loved', 'VBD'), ('the', 'DT'), ('crazy', 'JJ'), ('salmon', 'NN'), ('roll', 'NN'), ('and', 'CC'), ('my', 'PRP$'), ('hibachi', 'NN'), ('chicken', 'NN'), ('was', 'VBD'), ('NOT', 'NNP'), ('dry', 'JJ'), ('.', '.'), ('Whoever', 'WP'), ('the', 'DT'), ('chef', 'NN'), ('is', 'VBZ'), (',', ','), ('hats', 'NNS'), ('off', 'VBP'), ('to', 'TO'), ('you', 'PRP'), ('!', '.')]]\n"
     ]
    }
   ],
   "metadata": {}
  },
  {
   "cell_type": "code",
   "execution_count": 27,
   "source": [
    "from nltk.tag import HunposTagger\r\n",
    "pos_tag_list_hunpos = []\r\n",
    "ht = HunposTagger('en_wsj.model')\r\n",
    "for review in random_reviews:\r\n",
    " \r\n",
    "  pos_tag_list_hunpos.append(ht.tag(review))\r\n",
    "\r\n",
    "print(pos_tag_list_hunpos)"
   ],
   "outputs": [
    {
     "output_type": "error",
     "ename": "LookupError",
     "evalue": "\n\n===========================================================================\nNLTK was unable to find the hunpos-tag file!\nUse software specific configuration paramaters or set the HUNPOS_TAGGER environment variable.\n\n  Searched in:\n    - .\n    - /usr/bin\n    - /usr/local/bin\n    - /opt/local/bin\n    - /Applications/bin\n    - C:\\Users\\shiel/bin\n    - C:\\Users\\shiel/Applications/bin\n\n  For more information on hunpos-tag, see:\n    <http://code.google.com/p/hunpos/>\n===========================================================================",
     "traceback": [
      "\u001b[1;31m---------------------------------------------------------------------------\u001b[0m",
      "\u001b[1;31mLookupError\u001b[0m                               Traceback (most recent call last)",
      "\u001b[1;32m~\\AppData\\Local\\Temp/ipykernel_26832/446999510.py\u001b[0m in \u001b[0;36m<module>\u001b[1;34m\u001b[0m\n\u001b[0;32m      1\u001b[0m \u001b[1;32mfrom\u001b[0m \u001b[0mnltk\u001b[0m\u001b[1;33m.\u001b[0m\u001b[0mtag\u001b[0m \u001b[1;32mimport\u001b[0m \u001b[0mHunposTagger\u001b[0m\u001b[1;33m\u001b[0m\u001b[1;33m\u001b[0m\u001b[0m\n\u001b[0;32m      2\u001b[0m \u001b[0mpos_tag_list_hunpos\u001b[0m \u001b[1;33m=\u001b[0m \u001b[1;33m[\u001b[0m\u001b[1;33m]\u001b[0m\u001b[1;33m\u001b[0m\u001b[1;33m\u001b[0m\u001b[0m\n\u001b[1;32m----> 3\u001b[1;33m \u001b[0mht\u001b[0m \u001b[1;33m=\u001b[0m \u001b[0mHunposTagger\u001b[0m\u001b[1;33m(\u001b[0m\u001b[1;34m'en_wsj.model'\u001b[0m\u001b[1;33m)\u001b[0m\u001b[1;33m\u001b[0m\u001b[1;33m\u001b[0m\u001b[0m\n\u001b[0m\u001b[0;32m      4\u001b[0m \u001b[1;32mfor\u001b[0m \u001b[0mreview\u001b[0m \u001b[1;32min\u001b[0m \u001b[0mrandom_reviews\u001b[0m\u001b[1;33m:\u001b[0m\u001b[1;33m\u001b[0m\u001b[1;33m\u001b[0m\u001b[0m\n\u001b[0;32m      5\u001b[0m \u001b[1;33m\u001b[0m\u001b[0m\n",
      "\u001b[1;32m~\\anaconda3\\envs\\ce4032\\lib\\site-packages\\nltk\\tag\\hunpos.py\u001b[0m in \u001b[0;36m__init__\u001b[1;34m(self, path_to_model, path_to_bin, encoding, verbose)\u001b[0m\n\u001b[0;32m     79\u001b[0m         \u001b[0mhunpos_paths\u001b[0m \u001b[1;33m=\u001b[0m \u001b[0mlist\u001b[0m\u001b[1;33m(\u001b[0m\u001b[0mmap\u001b[0m\u001b[1;33m(\u001b[0m\u001b[0mos\u001b[0m\u001b[1;33m.\u001b[0m\u001b[0mpath\u001b[0m\u001b[1;33m.\u001b[0m\u001b[0mexpanduser\u001b[0m\u001b[1;33m,\u001b[0m \u001b[0mhunpos_paths\u001b[0m\u001b[1;33m)\u001b[0m\u001b[1;33m)\u001b[0m\u001b[1;33m\u001b[0m\u001b[1;33m\u001b[0m\u001b[0m\n\u001b[0;32m     80\u001b[0m \u001b[1;33m\u001b[0m\u001b[0m\n\u001b[1;32m---> 81\u001b[1;33m         self._hunpos_bin = find_binary(\n\u001b[0m\u001b[0;32m     82\u001b[0m             \u001b[1;34m\"hunpos-tag\"\u001b[0m\u001b[1;33m,\u001b[0m\u001b[1;33m\u001b[0m\u001b[1;33m\u001b[0m\u001b[0m\n\u001b[0;32m     83\u001b[0m             \u001b[0mpath_to_bin\u001b[0m\u001b[1;33m,\u001b[0m\u001b[1;33m\u001b[0m\u001b[1;33m\u001b[0m\u001b[0m\n",
      "\u001b[1;32m~\\anaconda3\\envs\\ce4032\\lib\\site-packages\\nltk\\internals.py\u001b[0m in \u001b[0;36mfind_binary\u001b[1;34m(name, path_to_bin, env_vars, searchpath, binary_names, url, verbose)\u001b[0m\n\u001b[0;32m    686\u001b[0m     \u001b[0mverbose\u001b[0m\u001b[1;33m=\u001b[0m\u001b[1;32mFalse\u001b[0m\u001b[1;33m,\u001b[0m\u001b[1;33m\u001b[0m\u001b[1;33m\u001b[0m\u001b[0m\n\u001b[0;32m    687\u001b[0m ):\n\u001b[1;32m--> 688\u001b[1;33m     return next(\n\u001b[0m\u001b[0;32m    689\u001b[0m         find_binary_iter(\n\u001b[0;32m    690\u001b[0m             \u001b[0mname\u001b[0m\u001b[1;33m,\u001b[0m \u001b[0mpath_to_bin\u001b[0m\u001b[1;33m,\u001b[0m \u001b[0menv_vars\u001b[0m\u001b[1;33m,\u001b[0m \u001b[0msearchpath\u001b[0m\u001b[1;33m,\u001b[0m \u001b[0mbinary_names\u001b[0m\u001b[1;33m,\u001b[0m \u001b[0murl\u001b[0m\u001b[1;33m,\u001b[0m \u001b[0mverbose\u001b[0m\u001b[1;33m\u001b[0m\u001b[1;33m\u001b[0m\u001b[0m\n",
      "\u001b[1;32m~\\anaconda3\\envs\\ce4032\\lib\\site-packages\\nltk\\internals.py\u001b[0m in \u001b[0;36mfind_binary_iter\u001b[1;34m(name, path_to_bin, env_vars, searchpath, binary_names, url, verbose)\u001b[0m\n\u001b[0;32m    671\u001b[0m     \u001b[1;33m:\u001b[0m\u001b[0mparam\u001b[0m \u001b[0mverbose\u001b[0m\u001b[1;33m:\u001b[0m \u001b[0mWhether\u001b[0m \u001b[1;32mor\u001b[0m \u001b[1;32mnot\u001b[0m \u001b[0mto\u001b[0m \u001b[0mprint\u001b[0m \u001b[0mpath\u001b[0m \u001b[0mwhen\u001b[0m \u001b[0ma\u001b[0m \u001b[0mfile\u001b[0m \u001b[1;32mis\u001b[0m \u001b[0mfound\u001b[0m\u001b[1;33m.\u001b[0m\u001b[1;33m\u001b[0m\u001b[1;33m\u001b[0m\u001b[0m\n\u001b[0;32m    672\u001b[0m     \"\"\"\n\u001b[1;32m--> 673\u001b[1;33m     for file in find_file_iter(\n\u001b[0m\u001b[0;32m    674\u001b[0m         \u001b[0mpath_to_bin\u001b[0m \u001b[1;32mor\u001b[0m \u001b[0mname\u001b[0m\u001b[1;33m,\u001b[0m \u001b[0menv_vars\u001b[0m\u001b[1;33m,\u001b[0m \u001b[0msearchpath\u001b[0m\u001b[1;33m,\u001b[0m \u001b[0mbinary_names\u001b[0m\u001b[1;33m,\u001b[0m \u001b[0murl\u001b[0m\u001b[1;33m,\u001b[0m \u001b[0mverbose\u001b[0m\u001b[1;33m\u001b[0m\u001b[1;33m\u001b[0m\u001b[0m\n\u001b[0;32m    675\u001b[0m     ):\n",
      "\u001b[1;32m~\\anaconda3\\envs\\ce4032\\lib\\site-packages\\nltk\\internals.py\u001b[0m in \u001b[0;36mfind_file_iter\u001b[1;34m(filename, env_vars, searchpath, file_names, url, verbose, finding_dir)\u001b[0m\n\u001b[0;32m    630\u001b[0m             \u001b[0mmsg\u001b[0m \u001b[1;33m+=\u001b[0m \u001b[1;34m\"\\n\\n  For more information on %s, see:\\n    <%s>\"\u001b[0m \u001b[1;33m%\u001b[0m \u001b[1;33m(\u001b[0m\u001b[0mfilename\u001b[0m\u001b[1;33m,\u001b[0m \u001b[0murl\u001b[0m\u001b[1;33m)\u001b[0m\u001b[1;33m\u001b[0m\u001b[1;33m\u001b[0m\u001b[0m\n\u001b[0;32m    631\u001b[0m         \u001b[0mdiv\u001b[0m \u001b[1;33m=\u001b[0m \u001b[1;34m\"=\"\u001b[0m \u001b[1;33m*\u001b[0m \u001b[1;36m75\u001b[0m\u001b[1;33m\u001b[0m\u001b[1;33m\u001b[0m\u001b[0m\n\u001b[1;32m--> 632\u001b[1;33m         \u001b[1;32mraise\u001b[0m \u001b[0mLookupError\u001b[0m\u001b[1;33m(\u001b[0m\u001b[1;34m\"\\n\\n%s\\n%s\\n%s\"\u001b[0m \u001b[1;33m%\u001b[0m \u001b[1;33m(\u001b[0m\u001b[0mdiv\u001b[0m\u001b[1;33m,\u001b[0m \u001b[0mmsg\u001b[0m\u001b[1;33m,\u001b[0m \u001b[0mdiv\u001b[0m\u001b[1;33m)\u001b[0m\u001b[1;33m)\u001b[0m\u001b[1;33m\u001b[0m\u001b[1;33m\u001b[0m\u001b[0m\n\u001b[0m\u001b[0;32m    633\u001b[0m \u001b[1;33m\u001b[0m\u001b[0m\n\u001b[0;32m    634\u001b[0m \u001b[1;33m\u001b[0m\u001b[0m\n",
      "\u001b[1;31mLookupError\u001b[0m: \n\n===========================================================================\nNLTK was unable to find the hunpos-tag file!\nUse software specific configuration paramaters or set the HUNPOS_TAGGER environment variable.\n\n  Searched in:\n    - .\n    - /usr/bin\n    - /usr/local/bin\n    - /opt/local/bin\n    - /Applications/bin\n    - C:\\Users\\shiel/bin\n    - C:\\Users\\shiel/Applications/bin\n\n  For more information on hunpos-tag, see:\n    <http://code.google.com/p/hunpos/>\n==========================================================================="
     ]
    }
   ],
   "metadata": {}
  },
  {
   "cell_type": "code",
   "execution_count": 31,
   "source": [
    "ht = HunposTagger('en_wsj.model')\r\n",
    "ht.tag('What is the airspeed of an unladen swallow ?'.split())"
   ],
   "outputs": [
    {
     "output_type": "error",
     "ename": "LookupError",
     "evalue": "\n\n===========================================================================\nNLTK was unable to find the hunpos-tag file!\nUse software specific configuration paramaters or set the HUNPOS_TAGGER environment variable.\n\n  Searched in:\n    - .\n    - /usr/bin\n    - /usr/local/bin\n    - /opt/local/bin\n    - /Applications/bin\n    - C:\\Users\\shiel/bin\n    - C:\\Users\\shiel/Applications/bin\n\n  For more information on hunpos-tag, see:\n    <http://code.google.com/p/hunpos/>\n===========================================================================",
     "traceback": [
      "\u001b[1;31m---------------------------------------------------------------------------\u001b[0m",
      "\u001b[1;31mLookupError\u001b[0m                               Traceback (most recent call last)",
      "\u001b[1;32m~\\AppData\\Local\\Temp/ipykernel_26832/17008821.py\u001b[0m in \u001b[0;36m<module>\u001b[1;34m\u001b[0m\n\u001b[1;32m----> 1\u001b[1;33m \u001b[0mht\u001b[0m \u001b[1;33m=\u001b[0m \u001b[0mHunposTagger\u001b[0m\u001b[1;33m(\u001b[0m\u001b[1;34m'en_wsj.model'\u001b[0m\u001b[1;33m)\u001b[0m\u001b[1;33m\u001b[0m\u001b[1;33m\u001b[0m\u001b[0m\n\u001b[0m\u001b[0;32m      2\u001b[0m \u001b[0mht\u001b[0m\u001b[1;33m.\u001b[0m\u001b[0mtag\u001b[0m\u001b[1;33m(\u001b[0m\u001b[1;34m'What is the airspeed of an unladen swallow ?'\u001b[0m\u001b[1;33m.\u001b[0m\u001b[0msplit\u001b[0m\u001b[1;33m(\u001b[0m\u001b[1;33m)\u001b[0m\u001b[1;33m)\u001b[0m\u001b[1;33m\u001b[0m\u001b[1;33m\u001b[0m\u001b[0m\n",
      "\u001b[1;32m~\\anaconda3\\envs\\ce4032\\lib\\site-packages\\nltk\\tag\\hunpos.py\u001b[0m in \u001b[0;36m__init__\u001b[1;34m(self, path_to_model, path_to_bin, encoding, verbose)\u001b[0m\n\u001b[0;32m     79\u001b[0m         \u001b[0mhunpos_paths\u001b[0m \u001b[1;33m=\u001b[0m \u001b[0mlist\u001b[0m\u001b[1;33m(\u001b[0m\u001b[0mmap\u001b[0m\u001b[1;33m(\u001b[0m\u001b[0mos\u001b[0m\u001b[1;33m.\u001b[0m\u001b[0mpath\u001b[0m\u001b[1;33m.\u001b[0m\u001b[0mexpanduser\u001b[0m\u001b[1;33m,\u001b[0m \u001b[0mhunpos_paths\u001b[0m\u001b[1;33m)\u001b[0m\u001b[1;33m)\u001b[0m\u001b[1;33m\u001b[0m\u001b[1;33m\u001b[0m\u001b[0m\n\u001b[0;32m     80\u001b[0m \u001b[1;33m\u001b[0m\u001b[0m\n\u001b[1;32m---> 81\u001b[1;33m         self._hunpos_bin = find_binary(\n\u001b[0m\u001b[0;32m     82\u001b[0m             \u001b[1;34m\"hunpos-tag\"\u001b[0m\u001b[1;33m,\u001b[0m\u001b[1;33m\u001b[0m\u001b[1;33m\u001b[0m\u001b[0m\n\u001b[0;32m     83\u001b[0m             \u001b[0mpath_to_bin\u001b[0m\u001b[1;33m,\u001b[0m\u001b[1;33m\u001b[0m\u001b[1;33m\u001b[0m\u001b[0m\n",
      "\u001b[1;32m~\\anaconda3\\envs\\ce4032\\lib\\site-packages\\nltk\\internals.py\u001b[0m in \u001b[0;36mfind_binary\u001b[1;34m(name, path_to_bin, env_vars, searchpath, binary_names, url, verbose)\u001b[0m\n\u001b[0;32m    686\u001b[0m     \u001b[0mverbose\u001b[0m\u001b[1;33m=\u001b[0m\u001b[1;32mFalse\u001b[0m\u001b[1;33m,\u001b[0m\u001b[1;33m\u001b[0m\u001b[1;33m\u001b[0m\u001b[0m\n\u001b[0;32m    687\u001b[0m ):\n\u001b[1;32m--> 688\u001b[1;33m     return next(\n\u001b[0m\u001b[0;32m    689\u001b[0m         find_binary_iter(\n\u001b[0;32m    690\u001b[0m             \u001b[0mname\u001b[0m\u001b[1;33m,\u001b[0m \u001b[0mpath_to_bin\u001b[0m\u001b[1;33m,\u001b[0m \u001b[0menv_vars\u001b[0m\u001b[1;33m,\u001b[0m \u001b[0msearchpath\u001b[0m\u001b[1;33m,\u001b[0m \u001b[0mbinary_names\u001b[0m\u001b[1;33m,\u001b[0m \u001b[0murl\u001b[0m\u001b[1;33m,\u001b[0m \u001b[0mverbose\u001b[0m\u001b[1;33m\u001b[0m\u001b[1;33m\u001b[0m\u001b[0m\n",
      "\u001b[1;32m~\\anaconda3\\envs\\ce4032\\lib\\site-packages\\nltk\\internals.py\u001b[0m in \u001b[0;36mfind_binary_iter\u001b[1;34m(name, path_to_bin, env_vars, searchpath, binary_names, url, verbose)\u001b[0m\n\u001b[0;32m    671\u001b[0m     \u001b[1;33m:\u001b[0m\u001b[0mparam\u001b[0m \u001b[0mverbose\u001b[0m\u001b[1;33m:\u001b[0m \u001b[0mWhether\u001b[0m \u001b[1;32mor\u001b[0m \u001b[1;32mnot\u001b[0m \u001b[0mto\u001b[0m \u001b[0mprint\u001b[0m \u001b[0mpath\u001b[0m \u001b[0mwhen\u001b[0m \u001b[0ma\u001b[0m \u001b[0mfile\u001b[0m \u001b[1;32mis\u001b[0m \u001b[0mfound\u001b[0m\u001b[1;33m.\u001b[0m\u001b[1;33m\u001b[0m\u001b[1;33m\u001b[0m\u001b[0m\n\u001b[0;32m    672\u001b[0m     \"\"\"\n\u001b[1;32m--> 673\u001b[1;33m     for file in find_file_iter(\n\u001b[0m\u001b[0;32m    674\u001b[0m         \u001b[0mpath_to_bin\u001b[0m \u001b[1;32mor\u001b[0m \u001b[0mname\u001b[0m\u001b[1;33m,\u001b[0m \u001b[0menv_vars\u001b[0m\u001b[1;33m,\u001b[0m \u001b[0msearchpath\u001b[0m\u001b[1;33m,\u001b[0m \u001b[0mbinary_names\u001b[0m\u001b[1;33m,\u001b[0m \u001b[0murl\u001b[0m\u001b[1;33m,\u001b[0m \u001b[0mverbose\u001b[0m\u001b[1;33m\u001b[0m\u001b[1;33m\u001b[0m\u001b[0m\n\u001b[0;32m    675\u001b[0m     ):\n",
      "\u001b[1;32m~\\anaconda3\\envs\\ce4032\\lib\\site-packages\\nltk\\internals.py\u001b[0m in \u001b[0;36mfind_file_iter\u001b[1;34m(filename, env_vars, searchpath, file_names, url, verbose, finding_dir)\u001b[0m\n\u001b[0;32m    630\u001b[0m             \u001b[0mmsg\u001b[0m \u001b[1;33m+=\u001b[0m \u001b[1;34m\"\\n\\n  For more information on %s, see:\\n    <%s>\"\u001b[0m \u001b[1;33m%\u001b[0m \u001b[1;33m(\u001b[0m\u001b[0mfilename\u001b[0m\u001b[1;33m,\u001b[0m \u001b[0murl\u001b[0m\u001b[1;33m)\u001b[0m\u001b[1;33m\u001b[0m\u001b[1;33m\u001b[0m\u001b[0m\n\u001b[0;32m    631\u001b[0m         \u001b[0mdiv\u001b[0m \u001b[1;33m=\u001b[0m \u001b[1;34m\"=\"\u001b[0m \u001b[1;33m*\u001b[0m \u001b[1;36m75\u001b[0m\u001b[1;33m\u001b[0m\u001b[1;33m\u001b[0m\u001b[0m\n\u001b[1;32m--> 632\u001b[1;33m         \u001b[1;32mraise\u001b[0m \u001b[0mLookupError\u001b[0m\u001b[1;33m(\u001b[0m\u001b[1;34m\"\\n\\n%s\\n%s\\n%s\"\u001b[0m \u001b[1;33m%\u001b[0m \u001b[1;33m(\u001b[0m\u001b[0mdiv\u001b[0m\u001b[1;33m,\u001b[0m \u001b[0mmsg\u001b[0m\u001b[1;33m,\u001b[0m \u001b[0mdiv\u001b[0m\u001b[1;33m)\u001b[0m\u001b[1;33m)\u001b[0m\u001b[1;33m\u001b[0m\u001b[1;33m\u001b[0m\u001b[0m\n\u001b[0m\u001b[0;32m    633\u001b[0m \u001b[1;33m\u001b[0m\u001b[0m\n\u001b[0;32m    634\u001b[0m \u001b[1;33m\u001b[0m\u001b[0m\n",
      "\u001b[1;31mLookupError\u001b[0m: \n\n===========================================================================\nNLTK was unable to find the hunpos-tag file!\nUse software specific configuration paramaters or set the HUNPOS_TAGGER environment variable.\n\n  Searched in:\n    - .\n    - /usr/bin\n    - /usr/local/bin\n    - /opt/local/bin\n    - /Applications/bin\n    - C:\\Users\\shiel/bin\n    - C:\\Users\\shiel/Applications/bin\n\n  For more information on hunpos-tag, see:\n    <http://code.google.com/p/hunpos/>\n==========================================================================="
     ]
    }
   ],
   "metadata": {}
  },
  {
   "cell_type": "code",
   "execution_count": 30,
   "source": [
    "\r\n",
    "import nltk \r\n",
    "from nltk.tag.hunpos import HunposTagger\r\n",
    "from nltk.tokenize import word_tokenize\r\n",
    "\r\n",
    "corpus = \"so how do i hunpos tag my ntuen ? i can't get the following code to work.\"\r\n",
    "#please help me to correct my python syntax errors, i'm new to python \r\n",
    "#but i really need this to work. sorry\r\n",
    "##from nltk.tag import hunpos.HunPosTagger\r\n",
    "ht = HunposTagger('english.model')\r\n",
    "print (ht.tag(word_tokenize(corpus)))\r\n"
   ],
   "outputs": [
    {
     "output_type": "error",
     "ename": "LookupError",
     "evalue": "\n\n===========================================================================\nNLTK was unable to find the hunpos-tag file!\nUse software specific configuration paramaters or set the HUNPOS_TAGGER environment variable.\n\n  Searched in:\n    - .\n    - /usr/bin\n    - /usr/local/bin\n    - /opt/local/bin\n    - /Applications/bin\n    - C:\\Users\\shiel/bin\n    - C:\\Users\\shiel/Applications/bin\n\n  For more information on hunpos-tag, see:\n    <http://code.google.com/p/hunpos/>\n===========================================================================",
     "traceback": [
      "\u001b[1;31m---------------------------------------------------------------------------\u001b[0m",
      "\u001b[1;31mLookupError\u001b[0m                               Traceback (most recent call last)",
      "\u001b[1;32m~\\AppData\\Local\\Temp/ipykernel_26832/2921305363.py\u001b[0m in \u001b[0;36m<module>\u001b[1;34m\u001b[0m\n\u001b[0;32m      7\u001b[0m \u001b[1;31m#but i really need this to work. sorry\u001b[0m\u001b[1;33m\u001b[0m\u001b[1;33m\u001b[0m\u001b[1;33m\u001b[0m\u001b[0m\n\u001b[0;32m      8\u001b[0m \u001b[1;31m##from nltk.tag import hunpos.HunPosTagger\u001b[0m\u001b[1;33m\u001b[0m\u001b[1;33m\u001b[0m\u001b[1;33m\u001b[0m\u001b[0m\n\u001b[1;32m----> 9\u001b[1;33m \u001b[0mht\u001b[0m \u001b[1;33m=\u001b[0m \u001b[0mHunposTagger\u001b[0m\u001b[1;33m(\u001b[0m\u001b[1;34m'english.model'\u001b[0m\u001b[1;33m)\u001b[0m\u001b[1;33m\u001b[0m\u001b[1;33m\u001b[0m\u001b[0m\n\u001b[0m\u001b[0;32m     10\u001b[0m \u001b[0mprint\u001b[0m \u001b[1;33m(\u001b[0m\u001b[0mht\u001b[0m\u001b[1;33m.\u001b[0m\u001b[0mtag\u001b[0m\u001b[1;33m(\u001b[0m\u001b[0mword_tokenize\u001b[0m\u001b[1;33m(\u001b[0m\u001b[0mcorpus\u001b[0m\u001b[1;33m)\u001b[0m\u001b[1;33m)\u001b[0m\u001b[1;33m)\u001b[0m\u001b[1;33m\u001b[0m\u001b[1;33m\u001b[0m\u001b[0m\n",
      "\u001b[1;32m~\\anaconda3\\envs\\ce4032\\lib\\site-packages\\nltk\\tag\\hunpos.py\u001b[0m in \u001b[0;36m__init__\u001b[1;34m(self, path_to_model, path_to_bin, encoding, verbose)\u001b[0m\n\u001b[0;32m     79\u001b[0m         \u001b[0mhunpos_paths\u001b[0m \u001b[1;33m=\u001b[0m \u001b[0mlist\u001b[0m\u001b[1;33m(\u001b[0m\u001b[0mmap\u001b[0m\u001b[1;33m(\u001b[0m\u001b[0mos\u001b[0m\u001b[1;33m.\u001b[0m\u001b[0mpath\u001b[0m\u001b[1;33m.\u001b[0m\u001b[0mexpanduser\u001b[0m\u001b[1;33m,\u001b[0m \u001b[0mhunpos_paths\u001b[0m\u001b[1;33m)\u001b[0m\u001b[1;33m)\u001b[0m\u001b[1;33m\u001b[0m\u001b[1;33m\u001b[0m\u001b[0m\n\u001b[0;32m     80\u001b[0m \u001b[1;33m\u001b[0m\u001b[0m\n\u001b[1;32m---> 81\u001b[1;33m         self._hunpos_bin = find_binary(\n\u001b[0m\u001b[0;32m     82\u001b[0m             \u001b[1;34m\"hunpos-tag\"\u001b[0m\u001b[1;33m,\u001b[0m\u001b[1;33m\u001b[0m\u001b[1;33m\u001b[0m\u001b[0m\n\u001b[0;32m     83\u001b[0m             \u001b[0mpath_to_bin\u001b[0m\u001b[1;33m,\u001b[0m\u001b[1;33m\u001b[0m\u001b[1;33m\u001b[0m\u001b[0m\n",
      "\u001b[1;32m~\\anaconda3\\envs\\ce4032\\lib\\site-packages\\nltk\\internals.py\u001b[0m in \u001b[0;36mfind_binary\u001b[1;34m(name, path_to_bin, env_vars, searchpath, binary_names, url, verbose)\u001b[0m\n\u001b[0;32m    686\u001b[0m     \u001b[0mverbose\u001b[0m\u001b[1;33m=\u001b[0m\u001b[1;32mFalse\u001b[0m\u001b[1;33m,\u001b[0m\u001b[1;33m\u001b[0m\u001b[1;33m\u001b[0m\u001b[0m\n\u001b[0;32m    687\u001b[0m ):\n\u001b[1;32m--> 688\u001b[1;33m     return next(\n\u001b[0m\u001b[0;32m    689\u001b[0m         find_binary_iter(\n\u001b[0;32m    690\u001b[0m             \u001b[0mname\u001b[0m\u001b[1;33m,\u001b[0m \u001b[0mpath_to_bin\u001b[0m\u001b[1;33m,\u001b[0m \u001b[0menv_vars\u001b[0m\u001b[1;33m,\u001b[0m \u001b[0msearchpath\u001b[0m\u001b[1;33m,\u001b[0m \u001b[0mbinary_names\u001b[0m\u001b[1;33m,\u001b[0m \u001b[0murl\u001b[0m\u001b[1;33m,\u001b[0m \u001b[0mverbose\u001b[0m\u001b[1;33m\u001b[0m\u001b[1;33m\u001b[0m\u001b[0m\n",
      "\u001b[1;32m~\\anaconda3\\envs\\ce4032\\lib\\site-packages\\nltk\\internals.py\u001b[0m in \u001b[0;36mfind_binary_iter\u001b[1;34m(name, path_to_bin, env_vars, searchpath, binary_names, url, verbose)\u001b[0m\n\u001b[0;32m    671\u001b[0m     \u001b[1;33m:\u001b[0m\u001b[0mparam\u001b[0m \u001b[0mverbose\u001b[0m\u001b[1;33m:\u001b[0m \u001b[0mWhether\u001b[0m \u001b[1;32mor\u001b[0m \u001b[1;32mnot\u001b[0m \u001b[0mto\u001b[0m \u001b[0mprint\u001b[0m \u001b[0mpath\u001b[0m \u001b[0mwhen\u001b[0m \u001b[0ma\u001b[0m \u001b[0mfile\u001b[0m \u001b[1;32mis\u001b[0m \u001b[0mfound\u001b[0m\u001b[1;33m.\u001b[0m\u001b[1;33m\u001b[0m\u001b[1;33m\u001b[0m\u001b[0m\n\u001b[0;32m    672\u001b[0m     \"\"\"\n\u001b[1;32m--> 673\u001b[1;33m     for file in find_file_iter(\n\u001b[0m\u001b[0;32m    674\u001b[0m         \u001b[0mpath_to_bin\u001b[0m \u001b[1;32mor\u001b[0m \u001b[0mname\u001b[0m\u001b[1;33m,\u001b[0m \u001b[0menv_vars\u001b[0m\u001b[1;33m,\u001b[0m \u001b[0msearchpath\u001b[0m\u001b[1;33m,\u001b[0m \u001b[0mbinary_names\u001b[0m\u001b[1;33m,\u001b[0m \u001b[0murl\u001b[0m\u001b[1;33m,\u001b[0m \u001b[0mverbose\u001b[0m\u001b[1;33m\u001b[0m\u001b[1;33m\u001b[0m\u001b[0m\n\u001b[0;32m    675\u001b[0m     ):\n",
      "\u001b[1;32m~\\anaconda3\\envs\\ce4032\\lib\\site-packages\\nltk\\internals.py\u001b[0m in \u001b[0;36mfind_file_iter\u001b[1;34m(filename, env_vars, searchpath, file_names, url, verbose, finding_dir)\u001b[0m\n\u001b[0;32m    630\u001b[0m             \u001b[0mmsg\u001b[0m \u001b[1;33m+=\u001b[0m \u001b[1;34m\"\\n\\n  For more information on %s, see:\\n    <%s>\"\u001b[0m \u001b[1;33m%\u001b[0m \u001b[1;33m(\u001b[0m\u001b[0mfilename\u001b[0m\u001b[1;33m,\u001b[0m \u001b[0murl\u001b[0m\u001b[1;33m)\u001b[0m\u001b[1;33m\u001b[0m\u001b[1;33m\u001b[0m\u001b[0m\n\u001b[0;32m    631\u001b[0m         \u001b[0mdiv\u001b[0m \u001b[1;33m=\u001b[0m \u001b[1;34m\"=\"\u001b[0m \u001b[1;33m*\u001b[0m \u001b[1;36m75\u001b[0m\u001b[1;33m\u001b[0m\u001b[1;33m\u001b[0m\u001b[0m\n\u001b[1;32m--> 632\u001b[1;33m         \u001b[1;32mraise\u001b[0m \u001b[0mLookupError\u001b[0m\u001b[1;33m(\u001b[0m\u001b[1;34m\"\\n\\n%s\\n%s\\n%s\"\u001b[0m \u001b[1;33m%\u001b[0m \u001b[1;33m(\u001b[0m\u001b[0mdiv\u001b[0m\u001b[1;33m,\u001b[0m \u001b[0mmsg\u001b[0m\u001b[1;33m,\u001b[0m \u001b[0mdiv\u001b[0m\u001b[1;33m)\u001b[0m\u001b[1;33m)\u001b[0m\u001b[1;33m\u001b[0m\u001b[1;33m\u001b[0m\u001b[0m\n\u001b[0m\u001b[0;32m    633\u001b[0m \u001b[1;33m\u001b[0m\u001b[0m\n\u001b[0;32m    634\u001b[0m \u001b[1;33m\u001b[0m\u001b[0m\n",
      "\u001b[1;31mLookupError\u001b[0m: \n\n===========================================================================\nNLTK was unable to find the hunpos-tag file!\nUse software specific configuration paramaters or set the HUNPOS_TAGGER environment variable.\n\n  Searched in:\n    - .\n    - /usr/bin\n    - /usr/local/bin\n    - /opt/local/bin\n    - /Applications/bin\n    - C:\\Users\\shiel/bin\n    - C:\\Users\\shiel/Applications/bin\n\n  For more information on hunpos-tag, see:\n    <http://code.google.com/p/hunpos/>\n==========================================================================="
     ]
    }
   ],
   "metadata": {}
  },
  {
   "cell_type": "code",
   "execution_count": null,
   "source": [],
   "outputs": [],
   "metadata": {}
  }
 ],
 "metadata": {
  "orig_nbformat": 4,
  "language_info": {
   "name": "python",
   "version": "3.8.11",
   "mimetype": "text/x-python",
   "codemirror_mode": {
    "name": "ipython",
    "version": 3
   },
   "pygments_lexer": "ipython3",
   "nbconvert_exporter": "python",
   "file_extension": ".py"
  },
  "kernelspec": {
   "name": "python3",
   "display_name": "Python 3.8.11 64-bit ('ce4032': conda)"
  },
  "interpreter": {
   "hash": "ebcada8de27617eeaddb148e876c567543693dbf3f21214c6ea2d70c71acf3f6"
  }
 },
 "nbformat": 4,
 "nbformat_minor": 2
}