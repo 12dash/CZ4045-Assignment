{
 "cells": [
  {
   "cell_type": "code",
   "execution_count": 4,
   "id": "90dfd8c5",
   "metadata": {},
   "outputs": [],
   "source": [
    "#URL = https://stackoverflow.com/questions/38826969/python-string-comparison-unexpected-results\n",
    "\n",
    "Article1 = \"\"\">>> '1.2.3'>'1.1.5'\n",
    "True\n",
    ">>> '1.1.3'>'1.1.5'\n",
    "False\n",
    ">>> '1.1.5'>'1.1.5'\n",
    "False\n",
    ">>> '1.1.7'>'1.1.5'\n",
    "True\n",
    ">>> '1.1.9'>'1.1.5'\n",
    "True\n",
    ">>> '1.1.10'>'1.1.5'\n",
    "False\n",
    ">>> '1.2'>'1.1.5'\n",
    "True\n",
    ">>> '1.2.9'>'1.1.5'\n",
    "True\n",
    ">>> '1.2.10'>'1.1.5'\n",
    "True\n",
    "Hi,\n",
    "\n",
    "I am trying to compare two strings as shown above. First of all, I am surprised that python comparing strings of numbers. firstly I thought that it will just compare lengths, but for different values it's giving exact values and I am astonished. But, for '1.1.10' > '1.1.5' it's false... i don't know why.... can anyone help...\"\"\""
   ]
  },
  {
   "cell_type": "code",
   "execution_count": 5,
   "id": "bc76939d",
   "metadata": {},
   "outputs": [],
   "source": [
    "#URL = https://stackoverflow.com/questions/12344414/should-i-use-a-code-converter-python-to-c\n",
    "Article2 = \"\"\"Let me just say right off the bat that i'm not a programmer. I'm just a guy with an idea taking his first steps to make it a reality. I'm no stranger to programming, mind you, but some of the concepts and terminology here are way over my head; so i apologize in advance if this question was answered before (i.e. Convert Python program to C/C++ code?).\n",
    "\n",
    "I have an idea to create a simple A.I. network to analyze music data sent from a phone via cloud computing (I got a guy for the cloud stuff). It will require a lot of memory and need to be fast for the hard number-crunching. I had planned on doing it in python, but have since learned that might not be such a good idea (Is Python faster and lighter than C++?).\n",
    "\n",
    "Since python is really the only gun i have in my holster, i was thinking of using a python-to-C++-converter. But nothing comes without a price:\n",
    "\n",
    "Is this an advantageous way to keep my code fast?\n",
    "What's the give-and-take for using a converter?\n",
    "Am i missing anything? I'm still new to this so i'm not even sure what questions to ask.\n",
    "Thanks in advance.\"\"\""
   ]
  },
  {
   "cell_type": "markdown",
   "id": "9c0edbd8",
   "metadata": {},
   "source": [
    "# Observations:\n",
    "### Article 1: \n",
    "1. Sentence capitalization is not consistent \n",
    "1. Sentences do not follow good grammar and punctuation\n",
    "1. Mistakes: \n",
    "- Capitalization is wrong in the words firstly and i\n",
    "- Comma is missing after values\n",
    "\n",
    "### Article 2:\n",
    "1. Repeated Capitalization mistakes\n",
    "1. Mistakes:\n",
    "- Repeated capitalization mistakes in usage of i and i'm\n"
   ]
  },
  {
   "cell_type": "markdown",
   "id": "90bf8c3e",
   "metadata": {},
   "source": [
    "# General Observations of Writing:\n",
    "1. More Grammatical errors and informal style of writing\n",
    "2. Capitalization and punctuation are generally the most commonly made mistakes\n"
   ]
  },
  {
   "cell_type": "code",
   "execution_count": 6,
   "id": "64a6662c",
   "metadata": {},
   "outputs": [],
   "source": [
    "import nltk\n",
    "import pandas as pd\n",
    "import numpy as np\n",
    "from nltk.tokenize import word_tokenize \n",
    "import spacy\n",
    "import en_core_web_sm\n",
    "from operator import itemgetter"
   ]
  },
  {
   "cell_type": "code",
   "execution_count": 21,
   "id": "e075bc9e",
   "metadata": {},
   "outputs": [],
   "source": [
    "nlp = spacy.load(\"en_core_web_sm\")"
   ]
  },
  {
   "cell_type": "code",
   "execution_count": 8,
   "id": "8e232d01",
   "metadata": {},
   "outputs": [],
   "source": [
    "sentencesArticle1 = nltk.sent_tokenize(Article1)\n",
    "sentencesArticle2 = nltk.sent_tokenize(Article2)"
   ]
  },
  {
   "cell_type": "code",
   "execution_count": 18,
   "id": "c5c097f0",
   "metadata": {},
   "outputs": [
    {
     "name": "stdout",
     "output_type": "stream",
     "text": [
      "Sentence 1 :\n",
      ">>> '1.2.3'>'1.1.5'\n",
      "True\n",
      ">>> '1.1.3'>'1.1.5'\n",
      "False\n",
      ">>> '1.1.5'>'1.1.5'\n",
      "False\n",
      ">>> '1.1.7'>'1.1.5'\n",
      "True\n",
      ">>> '1.1.9'>'1.1.5'\n",
      "True\n",
      ">>> '1.1.10'>'1.1.5'\n",
      "False\n",
      ">>> '1.2'>'1.1.5'\n",
      "True\n",
      ">>> '1.2.9'>'1.1.5'\n",
      "True\n",
      ">>> '1.2.10'>'1.1.5'\n",
      "True\n",
      "Hi,\n",
      "\n",
      "I am trying to compare two strings as shown above.\n",
      "-----------------------------------------------\n",
      "Sentence 2 :\n",
      "First of all, I am surprised that python comparing strings of numbers.\n",
      "-----------------------------------------------\n",
      "Sentence 3 :\n",
      "firstly I thought that it will just compare lengths, but for different values it's giving exact values and I am astonished.\n",
      "-----------------------------------------------\n",
      "Sentence 4 :\n",
      "But, for '1.1.10' > '1.1.5' it's false... i don't know why.... can anyone help...\n",
      "-----------------------------------------------\n"
     ]
    }
   ],
   "source": [
    "count = 1\n",
    "for i in sentencesArticle1:\n",
    "    print(\"Sentence\",count,\":\")\n",
    "    print(i)\n",
    "    print(\"-----------------------------------------------\")\n",
    "    count+=1"
   ]
  },
  {
   "cell_type": "code",
   "execution_count": 19,
   "id": "9ace0f07",
   "metadata": {},
   "outputs": [
    {
     "name": "stdout",
     "output_type": "stream",
     "text": [
      "Sentence 1 :\n",
      "Let me just say right off the bat that i'm not a programmer.\n",
      "-----------------------------------------------\n",
      "Sentence 2 :\n",
      "I'm just a guy with an idea taking his first steps to make it a reality.\n",
      "-----------------------------------------------\n",
      "Sentence 3 :\n",
      "I'm no stranger to programming, mind you, but some of the concepts and terminology here are way over my head; so i apologize in advance if this question was answered before (i.e.\n",
      "-----------------------------------------------\n",
      "Sentence 4 :\n",
      "Convert Python program to C/C++ code?).\n",
      "-----------------------------------------------\n",
      "Sentence 5 :\n",
      "I have an idea to create a simple A.I.\n",
      "-----------------------------------------------\n",
      "Sentence 6 :\n",
      "network to analyze music data sent from a phone via cloud computing (I got a guy for the cloud stuff).\n",
      "-----------------------------------------------\n",
      "Sentence 7 :\n",
      "It will require a lot of memory and need to be fast for the hard number-crunching.\n",
      "-----------------------------------------------\n",
      "Sentence 8 :\n",
      "I had planned on doing it in python, but have since learned that might not be such a good idea (Is Python faster and lighter than C++?).\n",
      "-----------------------------------------------\n",
      "Sentence 9 :\n",
      "Since python is really the only gun i have in my holster, i was thinking of using a python-to-C++-converter.\n",
      "-----------------------------------------------\n",
      "Sentence 10 :\n",
      "But nothing comes without a price:\n",
      "\n",
      "Is this an advantageous way to keep my code fast?\n",
      "-----------------------------------------------\n",
      "Sentence 11 :\n",
      "What's the give-and-take for using a converter?\n",
      "-----------------------------------------------\n",
      "Sentence 12 :\n",
      "Am i missing anything?\n",
      "-----------------------------------------------\n",
      "Sentence 13 :\n",
      "I'm still new to this so i'm not even sure what questions to ask.\n",
      "-----------------------------------------------\n",
      "Sentence 14 :\n",
      "Thanks in advance.\n",
      "-----------------------------------------------\n"
     ]
    }
   ],
   "source": [
    "count = 1\n",
    "for i in sentencesArticle2:\n",
    "    print(\"Sentence\",count,\":\")\n",
    "    print(i)\n",
    "    print(\"-----------------------------------------------\")\n",
    "    count+=1"
   ]
  },
  {
   "cell_type": "code",
   "execution_count": 22,
   "id": "1312df72",
   "metadata": {},
   "outputs": [
    {
     "name": "stdout",
     "output_type": "stream",
     "text": [
      "> PUNCT > PUNCT > X ' PART 1.2.3'>'1.1.5 NUM ' PUNCT \n",
      " SPACE True PROPN \n",
      " SPACE > PUNCT > PUNCT > PUNCT ' PUNCT 1.1.3'>'1.1.5 NUM ' PUNCT \n",
      " SPACE False PROPN \n",
      " SPACE > PUNCT > PUNCT > PUNCT ' PUNCT 1.1.5'>'1.1.5 NUM ' PUNCT \n",
      " SPACE False PROPN \n",
      " SPACE > PUNCT > PUNCT > X ' PUNCT 1.1.7'>'1.1.5 NUM ' PUNCT \n",
      " SPACE True PROPN \n",
      " SPACE > PUNCT > PUNCT > X ' PART 1.1.9'>'1.1.5 NUM ' PUNCT \n",
      " SPACE True PROPN \n",
      " SPACE > PUNCT > PUNCT > PUNCT ' PUNCT 1.1.10'>'1.1.5 PRON ' PUNCT \n",
      " SPACE False PROPN \n",
      " SPACE > PUNCT > PUNCT > PUNCT ' PUNCT 1.2'>'1.1.5 NUM ' PUNCT \n",
      " SPACE True PROPN \n",
      " SPACE > PUNCT > X > X ' PART 1.2.9'>'1.1.5 NUM ' PUNCT \n",
      " SPACE True PROPN \n",
      " SPACE > PUNCT > PUNCT > PUNCT ' PUNCT 1.2.10'>'1.1.5 PROPN ' PART \n",
      " SPACE True ADJ \n",
      " SPACE Hi INTJ , PUNCT \n",
      "\n",
      " SPACE I PRON am AUX trying VERB to PART compare VERB two NUM strings NOUN as ADP shown VERB above ADV . PUNCT First ADV of ADP all DET , PUNCT I PRON am AUX surprised ADJ that SCONJ python PROPN comparing VERB strings NOUN of ADP numbers NOUN . PUNCT firstly ADV I PRON thought VERB that SCONJ it PRON will AUX just ADV compare VERB lengths NOUN , PUNCT but CCONJ for ADP different ADJ values NOUN it PRON 's AUX giving VERB exact ADJ values NOUN and CCONJ I PRON am AUX astonished VERB . PUNCT But CCONJ , PUNCT for ADP ' PUNCT 1.1.10 PROPN ' PUNCT > SYM ' PUNCT 1.1.5 NUM ' PUNCT it PRON 's VERB false ADJ ... PUNCT i PRON do AUX n't PART know VERB why ADV .... PUNCT can AUX anyone PRON help VERB ... PUNCT "
     ]
    }
   ],
   "source": [
    "count = 0\n",
    "doc = nlp(Article1)\n",
    "\n",
    "# Token and Tag\n",
    "for token in doc:\n",
    "    print(token, token.pos_,\"\",end = '')"
   ]
  },
  {
   "cell_type": "markdown",
   "id": "e12d1275",
   "metadata": {},
   "source": [
    "mistakes: PART\tparticle\t*’s, not,*"
   ]
  },
  {
   "cell_type": "code",
   "execution_count": 23,
   "id": "52c0aa3a",
   "metadata": {},
   "outputs": [
    {
     "name": "stdout",
     "output_type": "stream",
     "text": [
      "Let VERB me PRON just ADV say VERB right ADV off ADP the DET bat NOUN that DET i PRON 'm VERB not PART a DET programmer NOUN . PUNCT I PRON 'm VERB just ADV a DET guy NOUN with ADP an DET idea NOUN taking VERB his PRON first ADJ steps NOUN to PART make VERB it PRON a DET reality NOUN . PUNCT I PRON 'm VERB no DET stranger NOUN to ADP programming NOUN , PUNCT mind VERB you PRON , PUNCT but CCONJ some DET of ADP the DET concepts NOUN and CCONJ terminology NOUN here ADV are VERB way NOUN over ADP my PRON head NOUN ; PUNCT so CCONJ i PRON apologize VERB in ADP advance NOUN if SCONJ this DET question NOUN was AUX answered VERB before ADP ( PUNCT i.e. X Convert PROPN Python PROPN program NOUN to ADP C PROPN / SYM C++ PROPN code NOUN ? PUNCT ) PUNCT . PUNCT \n",
      "\n",
      " SPACE I PRON have VERB an DET idea NOUN to PART create VERB a DET simple ADJ A.I. PROPN network NOUN to PART analyze VERB music NOUN data NOUN sent VERB from ADP a DET phone NOUN via ADP cloud NOUN computing NOUN ( PUNCT I PRON got VERB a DET guy NOUN for ADP the DET cloud ADJ stuff NOUN ) PUNCT . PUNCT It PRON will AUX require VERB a DET lot NOUN of ADP memory NOUN and CCONJ need VERB to PART be VERB fast ADJ for ADP the DET hard ADJ number NOUN - PUNCT crunching NOUN . PUNCT I PRON had AUX planned VERB on ADP doing VERB it PRON in ADP python PROPN , PUNCT but CCONJ have AUX since SCONJ learned VERB that DET might AUX not PART be VERB such DET a DET good ADJ idea NOUN ( PUNCT Is AUX Python PROPN faster ADV and CCONJ lighter ADJ than SCONJ C++ PROPN ? PUNCT ) PUNCT . PUNCT \n",
      "\n",
      " SPACE Since SCONJ python PROPN is VERB really ADV the DET only ADJ gun NOUN i PRON have VERB in ADP my PRON holster NOUN , PUNCT i PRON was AUX thinking VERB of ADP using VERB a DET python NOUN - PUNCT to PART - PUNCT C++-converter NOUN . PUNCT But CCONJ nothing PRON comes VERB without ADP a DET price NOUN : PUNCT \n",
      "\n",
      " SPACE Is AUX this DET an DET advantageous ADJ way NOUN to PART keep VERB my PRON code NOUN fast ADV ? PUNCT \n",
      " SPACE What PRON 's AUX the DET give VERB - PUNCT and CCONJ - PUNCT take VERB for ADP using VERB a DET converter NOUN ? PUNCT \n",
      " SPACE Am AUX i PRON missing VERB anything PRON ? PUNCT I PRON 'm VERB still ADV new ADJ to ADP this DET so ADV i PRON 'm VERB not PART even ADV sure ADJ what DET questions NOUN to PART ask VERB . PUNCT \n",
      " SPACE Thanks NOUN in ADP advance NOUN . PUNCT "
     ]
    }
   ],
   "source": [
    "count = 0\n",
    "doc = nlp(Article2)\n",
    "\n",
    "# Token and Tag\n",
    "for token in doc:\n",
    "    print(token, token.pos_,\"\",end = '')"
   ]
  },
  {
   "cell_type": "code",
   "execution_count": 24,
   "id": "a614e5cf",
   "metadata": {},
   "outputs": [],
   "source": [
    "#Problems: Mislabelled SOP and Sentence tokenization due to code and technical terms being used causing out of vocabulary words and wrong punctuation"
   ]
  }
 ],
 "metadata": {
  "kernelspec": {
   "display_name": "Python 3 (ipykernel)",
   "language": "python",
   "name": "python3"
  },
  "language_info": {
   "codemirror_mode": {
    "name": "ipython",
    "version": 3
   },
   "file_extension": ".py",
   "mimetype": "text/x-python",
   "name": "python",
   "nbconvert_exporter": "python",
   "pygments_lexer": "ipython3",
   "version": "3.9.1"
  }
 },
 "nbformat": 4,
 "nbformat_minor": 5
}
