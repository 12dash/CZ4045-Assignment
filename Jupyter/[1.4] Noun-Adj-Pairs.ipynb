{
 "cells": [
  {
   "cell_type": "code",
   "execution_count": 1,
   "metadata": {},
   "outputs": [],
   "source": [
    "import pandas as pd\n",
    "import spacy"
   ]
  },
  {
   "cell_type": "code",
   "execution_count": 2,
   "metadata": {},
   "outputs": [],
   "source": [
    "import time"
   ]
  },
  {
   "cell_type": "code",
   "execution_count": 3,
   "metadata": {},
   "outputs": [],
   "source": [
    "df_raw = pd.read_csv('../Data/review.csv')"
   ]
  },
  {
   "cell_type": "code",
   "execution_count": 4,
   "metadata": {},
   "outputs": [
    {
     "data": {
      "text/html": [
       "<div>\n",
       "<style scoped>\n",
       "    .dataframe tbody tr th:only-of-type {\n",
       "        vertical-align: middle;\n",
       "    }\n",
       "\n",
       "    .dataframe tbody tr th {\n",
       "        vertical-align: top;\n",
       "    }\n",
       "\n",
       "    .dataframe thead th {\n",
       "        text-align: right;\n",
       "    }\n",
       "</style>\n",
       "<table border=\"1\" class=\"dataframe\">\n",
       "  <thead>\n",
       "    <tr style=\"text-align: right;\">\n",
       "      <th></th>\n",
       "      <th>review_id</th>\n",
       "      <th>user_id</th>\n",
       "      <th>business_id</th>\n",
       "      <th>stars</th>\n",
       "      <th>useful</th>\n",
       "      <th>funny</th>\n",
       "      <th>cool</th>\n",
       "      <th>text</th>\n",
       "      <th>date</th>\n",
       "    </tr>\n",
       "  </thead>\n",
       "  <tbody>\n",
       "    <tr>\n",
       "      <th>0</th>\n",
       "      <td>8aoJJdKEO3ypoZNszpPu7Q</td>\n",
       "      <td>bGgAL09pxLnV_FFgR4ZADg</td>\n",
       "      <td>ZBE-H_aUlicix_9vUGQPIQ</td>\n",
       "      <td>5.0</td>\n",
       "      <td>0</td>\n",
       "      <td>0</td>\n",
       "      <td>0</td>\n",
       "      <td>We had my Mother's Birthday Party here on 10/2...</td>\n",
       "      <td>2016-11-09 20:07:25</td>\n",
       "    </tr>\n",
       "    <tr>\n",
       "      <th>1</th>\n",
       "      <td>J5NOCLdhuhor7USRhtYZ8w</td>\n",
       "      <td>pFCb-1j6oI3TDjr26h2cJQ</td>\n",
       "      <td>e-YnECeZNt8ngm0tu4X9mQ</td>\n",
       "      <td>4.0</td>\n",
       "      <td>0</td>\n",
       "      <td>0</td>\n",
       "      <td>0</td>\n",
       "      <td>Good Korean grill near Eaton Centre. The marin...</td>\n",
       "      <td>2015-12-05 05:06:43</td>\n",
       "    </tr>\n",
       "    <tr>\n",
       "      <th>2</th>\n",
       "      <td>PXiLWAYRt3xnHaJ8MB4rzw</td>\n",
       "      <td>mEzc6LeTNiQgIVsq3poMbg</td>\n",
       "      <td>j7HO1YeMQGYo3KibMXZ5vg</td>\n",
       "      <td>5.0</td>\n",
       "      <td>2</td>\n",
       "      <td>1</td>\n",
       "      <td>3</td>\n",
       "      <td>Was recommended to try this place by few peopl...</td>\n",
       "      <td>2014-10-11 05:16:15</td>\n",
       "    </tr>\n",
       "    <tr>\n",
       "      <th>3</th>\n",
       "      <td>VrLarvxZYJm74yAqtpe9PQ</td>\n",
       "      <td>o-zUN2WEZgjQS7jnNsec0g</td>\n",
       "      <td>7e3PZzUpG5FYOTGt3O3ePA</td>\n",
       "      <td>3.0</td>\n",
       "      <td>0</td>\n",
       "      <td>0</td>\n",
       "      <td>0</td>\n",
       "      <td>Ambience: Would not expect something this nice...</td>\n",
       "      <td>2016-07-25 03:45:26</td>\n",
       "    </tr>\n",
       "    <tr>\n",
       "      <th>4</th>\n",
       "      <td>C1CUpidlVFprUCkApqzCmA</td>\n",
       "      <td>Wlx0iBXJvk4x0EeOt2Bz1Q</td>\n",
       "      <td>vuHzLZ7nAeT-EiecOkS5Og</td>\n",
       "      <td>1.0</td>\n",
       "      <td>11</td>\n",
       "      <td>0</td>\n",
       "      <td>3</td>\n",
       "      <td>Absolutely the WORST pool company that I have ...</td>\n",
       "      <td>2016-04-11 18:49:11</td>\n",
       "    </tr>\n",
       "  </tbody>\n",
       "</table>\n",
       "</div>"
      ],
      "text/plain": [
       "                review_id                 user_id             business_id  \\\n",
       "0  8aoJJdKEO3ypoZNszpPu7Q  bGgAL09pxLnV_FFgR4ZADg  ZBE-H_aUlicix_9vUGQPIQ   \n",
       "1  J5NOCLdhuhor7USRhtYZ8w  pFCb-1j6oI3TDjr26h2cJQ  e-YnECeZNt8ngm0tu4X9mQ   \n",
       "2  PXiLWAYRt3xnHaJ8MB4rzw  mEzc6LeTNiQgIVsq3poMbg  j7HO1YeMQGYo3KibMXZ5vg   \n",
       "3  VrLarvxZYJm74yAqtpe9PQ  o-zUN2WEZgjQS7jnNsec0g  7e3PZzUpG5FYOTGt3O3ePA   \n",
       "4  C1CUpidlVFprUCkApqzCmA  Wlx0iBXJvk4x0EeOt2Bz1Q  vuHzLZ7nAeT-EiecOkS5Og   \n",
       "\n",
       "   stars  useful  funny  cool  \\\n",
       "0    5.0       0      0     0   \n",
       "1    4.0       0      0     0   \n",
       "2    5.0       2      1     3   \n",
       "3    3.0       0      0     0   \n",
       "4    1.0      11      0     3   \n",
       "\n",
       "                                                text                 date  \n",
       "0  We had my Mother's Birthday Party here on 10/2...  2016-11-09 20:07:25  \n",
       "1  Good Korean grill near Eaton Centre. The marin...  2015-12-05 05:06:43  \n",
       "2  Was recommended to try this place by few peopl...  2014-10-11 05:16:15  \n",
       "3  Ambience: Would not expect something this nice...  2016-07-25 03:45:26  \n",
       "4  Absolutely the WORST pool company that I have ...  2016-04-11 18:49:11  "
      ]
     },
     "execution_count": 4,
     "metadata": {},
     "output_type": "execute_result"
    }
   ],
   "source": [
    "df_raw.head()"
   ]
  },
  {
   "cell_type": "markdown",
   "metadata": {},
   "source": [
    "## Tokenization using split"
   ]
  },
  {
   "cell_type": "code",
   "execution_count": 5,
   "metadata": {},
   "outputs": [],
   "source": [
    "df = df_raw.copy()"
   ]
  },
  {
   "cell_type": "markdown",
   "metadata": {},
   "source": [
    "# Noun-Adjective Pairs"
   ]
  },
  {
   "cell_type": "code",
   "execution_count": 6,
   "metadata": {},
   "outputs": [],
   "source": [
    "import random\n",
    "from collections import Counter\n",
    "random.seed(4)\n",
    "RANDOM_STATE = 4\n",
    "\n",
    "nlp = spacy.load(\"en_core_web_sm\")"
   ]
  },
  {
   "cell_type": "code",
   "execution_count": 7,
   "metadata": {},
   "outputs": [],
   "source": [
    "ids = [1.0, 2.0, 3.0, 4.0, 5.0]\n",
    "num_reviews = [50, 20, 20, 20, 20]"
   ]
  },
  {
   "cell_type": "code",
   "execution_count": 8,
   "metadata": {},
   "outputs": [
    {
     "name": "stdout",
     "output_type": "stream",
     "text": [
      "1.0  Star Reviews\n",
      "-------------\n",
      "[(('time', 'first'), 5), (('reviews', 'good'), 3), (('time', 'second'), 3), (('appointment', 'able'), 3), (('fly', 'dead'), 3), (('service', 'horrible'), 3), (('night', 'last'), 2), (('Charlotte', 'local'), 2), (('food', 'fast'), 2), (('quality', 'poor'), 2)]\n",
      "-------------\n",
      "2.0  Star Reviews\n",
      "-------------\n",
      "[(('night', 'entire'), 2), (('experience', 'bad'), 2), (('pepper', 'red'), 2), (('Lasagne', 'fresh'), 2), (('variation', 'small'), 2), (('table', 'small'), 2), (('order', 'accurate'), 2), (('estate', 'real'), 2), (('thing', 'Next'), 2), (('day', 'next'), 2)]\n",
      "-------------\n",
      "3.0  Star Reviews\n",
      "-------------\n",
      "[(('food', 'good'), 4), (('dogs', 'other'), 3), (('sauce', 'cranberry'), 3), (('food', 'overall'), 2), (('Staff', 'friendly'), 2), (('sangria', 'regular'), 2), (('orleans', 'new'), 2), (('table', 'double'), 2), (('tip', 'double'), 2), (('seat', 'hard'), 2)]\n",
      "-------------\n",
      "4.0  Star Reviews\n",
      "-------------\n",
      "[(('room', 'recreational'), 3), (('Service', 'fast'), 2), (('place', 'great'), 2), (('staff', 'friendly'), 2), (('roll', 'soft'), 2), (('rolls', 'full'), 2), (('salmon', 'spicy'), 2), (('time', 'cheap'), 2), (('size', 'good'), 2), (('food', 'good'), 2)]\n",
      "-------------\n",
      "5.0  Star Reviews\n",
      "-------------\n",
      "[(('place', 'great'), 2), (('time', 'sub'), 2), (('pizza', 'medium'), 2), (('fish', 'other'), 2), (('service', 'great'), 2), (('hoagies', 'past'), 1), (('years', 'past'), 1), (('lil', 'heavy'), 1), (('oil', 'quick'), 1), (('vinegar', 'quick'), 1)]\n",
      "-------------\n"
     ]
    }
   ],
   "source": [
    "for star_rating, num_review in zip(ids, num_reviews):\n",
    "    print(star_rating, \" Star Reviews\")\n",
    "    print(\"-------------\")\n",
    "    # Extacting 1 Star Reviews\n",
    "    x_star_df = df.loc[df['stars'] == star_rating]\n",
    "\n",
    "    # Selecting all business IDs\n",
    "    business_ids = x_star_df['business_id'].unique().tolist()\n",
    "\n",
    "    # Sample 50 IDs\n",
    "    selected_ids = random.sample(business_ids, num_review)\n",
    "\n",
    "    dfs = dict(tuple(x_star_df.groupby('business_id')))\n",
    "\n",
    "    x_star_reviews = []\n",
    "    \n",
    "    for id in selected_ids:\n",
    "        one_star_review = dfs[id].sample(n = 1, random_state = RANDOM_STATE)\n",
    "        x_star_reviews.append(one_star_review.iloc[0][\"text\"])\n",
    "\n",
    "    noun_adj_pairs = []\n",
    "\n",
    "    for i in range(len(x_star_reviews)):\n",
    "        doc = nlp(x_star_reviews[i])\n",
    "        sentences = [sent.text.strip() for sent in doc.sents]\n",
    "\n",
    "        for sentence in sentences:\n",
    "            \n",
    "            doc = nlp(sentence)\n",
    "            noun, adj = \"\", \"\"\n",
    "            for i,token in enumerate(doc):\n",
    "                if token.pos_ not in ('NOUN','PROPN'):\n",
    "                    continue\n",
    "                for j in range(i+1, len(doc)):\n",
    "                    if doc[j].pos_ == 'ADJ':\n",
    "                        noun_adj_pairs.append((token,doc[j]))\n",
    "                        break\n",
    "            for i,token in enumerate(doc):\n",
    "                if token.pos_ != 'ADJ':\n",
    "                    continue\n",
    "                for j in range(i+1, len(doc)):\n",
    "                    if doc[j].pos_ in ('NOUN', 'PROPN'):\n",
    "                        noun_adj_pairs.append((doc[j],token))\n",
    "                        break\n",
    "\n",
    "    out = []\n",
    "\n",
    "    for pairs in noun_adj_pairs:\n",
    "        item_1 = pairs[0]\n",
    "        item_2 = pairs[1]\n",
    "        out.append((str(item_1), str(item_2)))\n",
    "\n",
    "    c = Counter(out)\n",
    "    print(c.most_common(10))\n",
    "    print(\"-------------\")\n"
   ]
  }
 ],
 "metadata": {
  "interpreter": {
   "hash": "03f7dc19a1cedc573e2ca4eb2fb8649d76cbed23038ca76b3f3820d1f93f421c"
  },
  "kernelspec": {
   "display_name": "Python 3.9.4 64-bit ('myenv': conda)",
   "name": "python3"
  },
  "language_info": {
   "codemirror_mode": {
    "name": "ipython",
    "version": 3
   },
   "file_extension": ".py",
   "mimetype": "text/x-python",
   "name": "python",
   "nbconvert_exporter": "python",
   "pygments_lexer": "ipython3",
   "version": "3.9.4"
  }
 },
 "nbformat": 4,
 "nbformat_minor": 4
}
