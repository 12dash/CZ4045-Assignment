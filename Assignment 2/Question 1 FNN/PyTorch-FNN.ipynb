{
 "cells": [
  {
   "cell_type": "markdown",
   "id": "fda3ada1",
   "metadata": {
    "id": "bahPjR3cTqaN",
    "papermill": {
     "duration": 0.020466,
     "end_time": "2021-11-09T23:49:51.134200",
     "exception": false,
     "start_time": "2021-11-09T23:49:51.113734",
     "status": "completed"
    },
    "tags": []
   },
   "source": [
    "# CZ4045 Natural Language Processing\n",
    "## Assignment - 2\n",
    "\n",
    "### Team - 15\n",
    "* Tharakan Rohan Roy\n",
    "* Gupta Jay\n",
    "* Jose Jeswin\n",
    "* Dandapath Soham\n",
    "* Adrakatti Vivek\n",
    "\n",
    "> **Warning:** This notebook was created on the Kaggle platform where it fetches data from the Kaggle directories. It will not work by default on the Jupyter Notebook Platform."
   ]
  },
  {
   "cell_type": "code",
   "execution_count": 1,
   "id": "fe46ab59",
   "metadata": {
    "execution": {
     "iopub.execute_input": "2021-11-09T23:49:51.174093Z",
     "iopub.status.busy": "2021-11-09T23:49:51.172432Z",
     "iopub.status.idle": "2021-11-09T23:49:52.550854Z",
     "shell.execute_reply": "2021-11-09T23:49:52.550195Z",
     "shell.execute_reply.started": "2021-11-09T23:47:44.298663Z"
    },
    "papermill": {
     "duration": 1.399334,
     "end_time": "2021-11-09T23:49:52.550998",
     "exception": false,
     "start_time": "2021-11-09T23:49:51.151664",
     "status": "completed"
    },
    "tags": []
   },
   "outputs": [],
   "source": [
    "import os\n",
    "from io import open\n",
    "import torch\n",
    "import time\n",
    "import math\n",
    "import torch.nn as nn\n",
    "import torch.optim as optim\n",
    "import matplotlib.pyplot as plt\n",
    "import numpy as np"
   ]
  },
  {
   "cell_type": "code",
   "execution_count": 2,
   "id": "84a5ba6b",
   "metadata": {
    "execution": {
     "iopub.execute_input": "2021-11-09T23:49:52.589604Z",
     "iopub.status.busy": "2021-11-09T23:49:52.588706Z",
     "iopub.status.idle": "2021-11-09T23:49:52.594631Z",
     "shell.execute_reply": "2021-11-09T23:49:52.594167Z",
     "shell.execute_reply.started": "2021-11-09T23:47:45.667721Z"
    },
    "executionInfo": {
     "elapsed": 5468,
     "status": "ok",
     "timestamp": 1606635726020,
     "user": {
      "displayName": "yong wei",
      "photoUrl": "https://lh3.googleusercontent.com/a-/AOh14GhYJ6D3p-i8GPWEqh4u2s4VniV_lHZd6l3-eHSaqA=s64",
      "userId": "07110467073693299033"
     },
     "user_tz": -480
    },
    "id": "ogqV14bhTkAV",
    "papermill": {
     "duration": 0.026023,
     "end_time": "2021-11-09T23:49:52.594747",
     "exception": false,
     "start_time": "2021-11-09T23:49:52.568724",
     "status": "completed"
    },
    "tags": []
   },
   "outputs": [],
   "source": [
    "class Parameters:\n",
    "    data = '../input/wikitext2'\n",
    "    model = 'FNNModel'\n",
    "    emsize = 200\n",
    "    ngram = 8\n",
    "    nhid = 200\n",
    "    nlayers = 2\n",
    "    lr = 0.002\n",
    "    epochs = 20\n",
    "    batch_size = 16\n",
    "    bptt = 35\n",
    "    tied = True\n",
    "    seed = 1111\n",
    "    cuda = True\n",
    "    log_interval = 10000\n",
    "    save = 'model.pt'\n",
    "\n",
    "args = Parameters()"
   ]
  },
  {
   "cell_type": "code",
   "execution_count": 3,
   "id": "6a816cb2",
   "metadata": {
    "execution": {
     "iopub.execute_input": "2021-11-09T23:49:52.661958Z",
     "iopub.status.busy": "2021-11-09T23:49:52.661139Z",
     "iopub.status.idle": "2021-11-09T23:49:52.706539Z",
     "shell.execute_reply": "2021-11-09T23:49:52.706005Z",
     "shell.execute_reply.started": "2021-11-09T23:47:45.675335Z"
    },
    "executionInfo": {
     "elapsed": 5333,
     "status": "ok",
     "timestamp": 1606635726021,
     "user": {
      "displayName": "yong wei",
      "photoUrl": "https://lh3.googleusercontent.com/a-/AOh14GhYJ6D3p-i8GPWEqh4u2s4VniV_lHZd6l3-eHSaqA=s64",
      "userId": "07110467073693299033"
     },
     "user_tz": -480
    },
    "id": "x1HKajQETmPN",
    "papermill": {
     "duration": 0.082192,
     "end_time": "2021-11-09T23:49:52.706706",
     "exception": false,
     "start_time": "2021-11-09T23:49:52.624514",
     "status": "completed"
    },
    "tags": []
   },
   "outputs": [],
   "source": [
    "torch.manual_seed(args.seed)\n",
    "if torch.cuda.is_available():\n",
    "    if not args.cuda:\n",
    "        print(\"WARNING: You have a CUDA device, so you should probably run with --cuda\")\n",
    "\n",
    "device = torch.device(\"cuda\" if args.cuda else \"cpu\")"
   ]
  },
  {
   "cell_type": "markdown",
   "id": "b9482a28",
   "metadata": {
    "id": "Os7w9It9TzTz",
    "papermill": {
     "duration": 0.016696,
     "end_time": "2021-11-09T23:49:52.740296",
     "exception": false,
     "start_time": "2021-11-09T23:49:52.723600",
     "status": "completed"
    },
    "tags": []
   },
   "source": [
    "## 1.2 Understanding the Preprocessing and Data Loading Functions\n",
    "> **Source:** PyTorch Examples - https://github.com/pytorch/examples/blob/master/word_language_model/main.py"
   ]
  },
  {
   "cell_type": "code",
   "execution_count": 4,
   "id": "01cec327",
   "metadata": {
    "execution": {
     "iopub.execute_input": "2021-11-09T23:49:52.785783Z",
     "iopub.status.busy": "2021-11-09T23:49:52.785212Z",
     "iopub.status.idle": "2021-11-09T23:49:55.670219Z",
     "shell.execute_reply": "2021-11-09T23:49:55.669727Z",
     "shell.execute_reply.started": "2021-11-09T23:47:45.722718Z"
    },
    "executionInfo": {
     "elapsed": 8219,
     "status": "ok",
     "timestamp": 1606635729217,
     "user": {
      "displayName": "yong wei",
      "photoUrl": "https://lh3.googleusercontent.com/a-/AOh14GhYJ6D3p-i8GPWEqh4u2s4VniV_lHZd6l3-eHSaqA=s64",
      "userId": "07110467073693299033"
     },
     "user_tz": -480
    },
    "id": "EVggFpzQToVN",
    "papermill": {
     "duration": 2.913459,
     "end_time": "2021-11-09T23:49:55.670349",
     "exception": false,
     "start_time": "2021-11-09T23:49:52.756890",
     "status": "completed"
    },
    "tags": []
   },
   "outputs": [],
   "source": [
    "class Dictionary(object):\n",
    "    def __init__(self):\n",
    "        self.word2idx = {}\n",
    "        self.idx2word = []\n",
    "\n",
    "    def add_word(self, word):\n",
    "        if word not in self.word2idx:\n",
    "            self.idx2word.append(word)\n",
    "            self.word2idx[word] = len(self.idx2word) - 1\n",
    "        return self.word2idx[word]\n",
    "\n",
    "    def __len__(self):\n",
    "        return len(self.idx2word)\n",
    "\n",
    "\n",
    "class Corpus(object):\n",
    "    def __init__(self, path):\n",
    "        self.dictionary = Dictionary()\n",
    "        self.train = self.tokenize(os.path.join(path, 'train.txt'))\n",
    "        self.valid = self.tokenize(os.path.join(path, 'valid.txt'))\n",
    "        self.test = self.tokenize(os.path.join(path, 'test.txt'))\n",
    "\n",
    "    def tokenize(self, path):\n",
    "        \"\"\"Tokenizes a text file.\"\"\"\n",
    "        # Add words to the dictionary\n",
    "        with open(path, 'r', encoding=\"utf8\") as f:\n",
    "            for line in f:\n",
    "                words = line.split() + ['<eos>']\n",
    "                for word in words:\n",
    "                    self.dictionary.add_word(word)\n",
    "\n",
    "        # Tokenize file content\n",
    "        with open(path, 'r', encoding=\"utf8\") as f:\n",
    "            idss = []\n",
    "            for line in f:\n",
    "                words = line.split() + ['<eos>']\n",
    "                ids = []\n",
    "                for word in words:\n",
    "                    ids.append(self.dictionary.word2idx[word])\n",
    "                idss.append(torch.tensor(ids).type(torch.int64))\n",
    "            ids = torch.cat(idss)\n",
    "\n",
    "        return ids\n",
    "\n",
    "# Load data\n",
    "corpus = Corpus(args.data)"
   ]
  },
  {
   "cell_type": "code",
   "execution_count": 5,
   "id": "ddbbca1b",
   "metadata": {
    "execution": {
     "iopub.execute_input": "2021-11-09T23:49:55.722483Z",
     "iopub.status.busy": "2021-11-09T23:49:55.718230Z",
     "iopub.status.idle": "2021-11-09T23:50:23.468538Z",
     "shell.execute_reply": "2021-11-09T23:50:23.468024Z",
     "shell.execute_reply.started": "2021-11-09T23:47:48.383291Z"
    },
    "papermill": {
     "duration": 27.780988,
     "end_time": "2021-11-09T23:50:23.468684",
     "exception": false,
     "start_time": "2021-11-09T23:49:55.687696",
     "status": "completed"
    },
    "tags": []
   },
   "outputs": [],
   "source": [
    "def ngramSplit(data, bsz):\n",
    "    value = []\n",
    "    data = data.numpy()\n",
    "    for i, word in enumerate(data):\n",
    "        if i+bsz>= len(data):\n",
    "            break\n",
    "        word_ids = []\n",
    "        for j in range(bsz+1):\n",
    "            word_ids.append(data[i+j])\n",
    "        value.append(word_ids)\n",
    "    value = torch.LongTensor(value)\n",
    "    return value.to(device)\n",
    "\n",
    "eval_batch_size = args.batch_size\n",
    "train_data = ngramSplit(corpus.train, eval_batch_size)\n",
    "val_data = ngramSplit(corpus.valid, eval_batch_size)\n",
    "test_data = ngramSplit(corpus.test, eval_batch_size)"
   ]
  },
  {
   "cell_type": "code",
   "execution_count": 6,
   "id": "0a1f897a",
   "metadata": {
    "execution": {
     "iopub.execute_input": "2021-11-09T23:50:23.510104Z",
     "iopub.status.busy": "2021-11-09T23:50:23.508556Z",
     "iopub.status.idle": "2021-11-09T23:50:23.510709Z",
     "shell.execute_reply": "2021-11-09T23:50:23.511121Z",
     "shell.execute_reply.started": "2021-11-09T23:48:16.730451Z"
    },
    "executionInfo": {
     "elapsed": 23209,
     "status": "ok",
     "timestamp": 1606635749321,
     "user": {
      "displayName": "yong wei",
      "photoUrl": "https://lh3.googleusercontent.com/a-/AOh14GhYJ6D3p-i8GPWEqh4u2s4VniV_lHZd6l3-eHSaqA=s64",
      "userId": "07110467073693299033"
     },
     "user_tz": -480
    },
    "id": "6_R5kUkpw0x_",
    "papermill": {
     "duration": 0.024782,
     "end_time": "2021-11-09T23:50:23.511251",
     "exception": false,
     "start_time": "2021-11-09T23:50:23.486469",
     "status": "completed"
    },
    "tags": []
   },
   "outputs": [],
   "source": [
    "def get_batch(source, i):\n",
    "    seq_len = min(args.bptt, len(source) - 1 - i)\n",
    "    data = source[i:i+seq_len, 0:args.ngram]\n",
    "    target = source[i+1:i+1+seq_len, args.ngram-1:args.ngram]\n",
    "    return data, target.narrow(1,0,1).contiguous().view(-1)"
   ]
  },
  {
   "cell_type": "markdown",
   "id": "12d4ac25",
   "metadata": {
    "id": "ixljmNNiwzci",
    "papermill": {
     "duration": 0.016897,
     "end_time": "2021-11-09T23:50:23.545423",
     "exception": false,
     "start_time": "2021-11-09T23:50:23.528526",
     "status": "completed"
    },
    "tags": []
   },
   "source": [
    "## 1.3 Language Model with a Feed-Forward Network Architecture"
   ]
  },
  {
   "cell_type": "code",
   "execution_count": 7,
   "id": "2b56c8e8",
   "metadata": {
    "execution": {
     "iopub.execute_input": "2021-11-09T23:50:23.589569Z",
     "iopub.status.busy": "2021-11-09T23:50:23.588737Z",
     "iopub.status.idle": "2021-11-09T23:50:23.591302Z",
     "shell.execute_reply": "2021-11-09T23:50:23.590844Z",
     "shell.execute_reply.started": "2021-11-09T23:48:16.738326Z"
    },
    "executionInfo": {
     "elapsed": 21178,
     "status": "ok",
     "timestamp": 1606635749326,
     "user": {
      "displayName": "yong wei",
      "photoUrl": "https://lh3.googleusercontent.com/a-/AOh14GhYJ6D3p-i8GPWEqh4u2s4VniV_lHZd6l3-eHSaqA=s64",
      "userId": "07110467073693299033"
     },
     "user_tz": -480
    },
    "id": "lS2NDk_JGcTb",
    "papermill": {
     "duration": 0.028988,
     "end_time": "2021-11-09T23:50:23.591450",
     "exception": false,
     "start_time": "2021-11-09T23:50:23.562462",
     "status": "completed"
    },
    "tags": []
   },
   "outputs": [],
   "source": [
    "class FNNModel(nn.Module):\n",
    "    def __init__(self, vocab_size, ninp, ngram, nhid, tie_weights=False):\n",
    "        super(FNNModel, self).__init__()\n",
    "        self.ntoken = vocab_size\n",
    "        self.ngram = ngram\n",
    "        self.ninp = ninp\n",
    "        self.encoder = nn.Embedding(self.ntoken, self.ninp)\n",
    "        self.fc1 = nn.Linear(self.ninp * self.ngram, nhid)\n",
    "        self.decoder = nn.Linear(nhid, self.ntoken, bias = False)\n",
    "\n",
    "        # Optionally tie weights as in:\n",
    "        # \"Using the Output Embedding to Improve Language Models\" (Press & Wolf 2016)\n",
    "        # https://arxiv.org/abs/1608.05859\n",
    "        # and\n",
    "        # \"Tying Word Vectors and Word Classifiers: A Loss Framework for Language Modeling\" (Inan et al. 2016)\n",
    "        # https://arxiv.org/abs/1611.01462\n",
    "        if tie_weights:\n",
    "            if nhid != ninp:\n",
    "                raise ValueError(\n",
    "                    'When using the tied flag, nhid must be equal to emsize')\n",
    "            self.decoder.weight = self.encoder.weight\n",
    "\n",
    "        self.init_weights()\n",
    "\n",
    "    def init_weights(self):\n",
    "        initrange = 0.1\n",
    "        nn.init.uniform_(self.encoder.weight, -initrange, initrange)\n",
    "        nn.init.zeros_(self.decoder.weight)\n",
    "        nn.init.uniform_(self.decoder.weight, -initrange, initrange)\n",
    "        \n",
    "    def forward(self, input):\n",
    "        emb = self.encoder(input).view((-1,self.ngram * self.ninp))\n",
    "        output = torch.tanh(self.fc1(emb))\n",
    "        decoded = self.decoder(output)\n",
    "        return nn.functional.log_softmax(input = decoded, dim = 1)"
   ]
  },
  {
   "cell_type": "code",
   "execution_count": 8,
   "id": "deca3f1a",
   "metadata": {
    "execution": {
     "iopub.execute_input": "2021-11-09T23:50:23.631330Z",
     "iopub.status.busy": "2021-11-09T23:50:23.630559Z",
     "iopub.status.idle": "2021-11-09T23:50:23.633257Z",
     "shell.execute_reply": "2021-11-09T23:50:23.632806Z",
     "shell.execute_reply.started": "2021-11-09T23:48:16.757922Z"
    },
    "executionInfo": {
     "elapsed": 17592,
     "status": "ok",
     "timestamp": 1606635749328,
     "user": {
      "displayName": "yong wei",
      "photoUrl": "https://lh3.googleusercontent.com/a-/AOh14GhYJ6D3p-i8GPWEqh4u2s4VniV_lHZd6l3-eHSaqA=s64",
      "userId": "07110467073693299033"
     },
     "user_tz": -480
    },
    "id": "5b0MbgDyqde5",
    "papermill": {
     "duration": 0.025195,
     "end_time": "2021-11-09T23:50:23.633391",
     "exception": false,
     "start_time": "2021-11-09T23:50:23.608196",
     "status": "completed"
    },
    "tags": []
   },
   "outputs": [],
   "source": [
    "def evaluate(model, data_source):\n",
    "    # Turn on evaluation mode which disables dropout.\n",
    "    model.eval()\n",
    "    total_loss = 0.\n",
    "    ntokens = len(corpus.dictionary)\n",
    "    with torch.no_grad():\n",
    "        for i in range(0, data_source.size(0) - 1, args.bptt):\n",
    "            data, targets = get_batch(data_source, i)\n",
    "            if args.model == 'FNNModel':\n",
    "                output= model(data)\n",
    "            total_loss += len(data) * criterion(output, targets).item()\n",
    "    return total_loss / (len(data_source) - 1)"
   ]
  },
  {
   "cell_type": "markdown",
   "id": "9c2dea72",
   "metadata": {
    "id": "UPvjarqo8cis",
    "papermill": {
     "duration": 0.017079,
     "end_time": "2021-11-09T23:50:23.667691",
     "exception": false,
     "start_time": "2021-11-09T23:50:23.650612",
     "status": "completed"
    },
    "tags": []
   },
   "source": [
    "## 1.4 Train the model with Adam to train an 8-gram language model."
   ]
  },
  {
   "cell_type": "code",
   "execution_count": 9,
   "id": "2515daa8",
   "metadata": {
    "execution": {
     "iopub.execute_input": "2021-11-09T23:50:23.717480Z",
     "iopub.status.busy": "2021-11-09T23:50:23.715073Z",
     "iopub.status.idle": "2021-11-10T01:01:35.496319Z",
     "shell.execute_reply": "2021-11-10T01:01:35.496787Z",
     "shell.execute_reply.started": "2021-11-09T23:48:16.767454Z"
    },
    "executionInfo": {
     "elapsed": 6248251,
     "status": "ok",
     "timestamp": 1606628616731,
     "user": {
      "displayName": "yong wei",
      "photoUrl": "https://lh3.googleusercontent.com/a-/AOh14GhYJ6D3p-i8GPWEqh4u2s4VniV_lHZd6l3-eHSaqA=s64",
      "userId": "07110467073693299033"
     },
     "user_tz": -480
    },
    "id": "ReILiFEdqt3X",
    "outputId": "86f18681-fbb7-426a-b392-51a240714ed7",
    "papermill": {
     "duration": 4271.81205,
     "end_time": "2021-11-10T01:01:35.496956",
     "exception": false,
     "start_time": "2021-11-09T23:50:23.684906",
     "status": "completed"
    },
    "tags": []
   },
   "outputs": [
    {
     "name": "stdout",
     "output_type": "stream",
     "text": [
      "\n",
      "--- Training: 1 ---\n",
      "| epoch   0 |     0/59674 batches | lr 0.002 | ms/batch  0.09 | loss  0.00 | ppl     1.00\n",
      "| epoch   0 | 10000/59674 batches | lr 0.002 | ms/batch  3.52 | loss  6.52 | ppl   681.48\n",
      "| epoch   0 | 20000/59674 batches | lr 0.002 | ms/batch  3.55 | loss  6.26 | ppl   521.80\n",
      "| epoch   0 | 30000/59674 batches | lr 0.002 | ms/batch  3.53 | loss  6.14 | ppl   465.80\n",
      "| epoch   0 | 40000/59674 batches | lr 0.002 | ms/batch  3.55 | loss  6.17 | ppl   476.28\n",
      "| epoch   0 | 50000/59674 batches | lr 0.002 | ms/batch  3.54 | loss  6.19 | ppl   488.79\n",
      "\n",
      "--- Evaluation ---\n",
      "-----------------------------------------------------------------------------------------\n",
      "| end of epoch   0 | valid loss  6.56 | valid ppl   703.05\n",
      "-----------------------------------------------------------------------------------------\n",
      "\n",
      "--- Training: 2 ---\n",
      "| epoch   1 |     0/59674 batches | lr 0.002 | ms/batch  0.00 | loss  6.03 | ppl   415.14\n",
      "| epoch   1 | 10000/59674 batches | lr 0.002 | ms/batch  3.53 | loss  6.14 | ppl   465.39\n",
      "| epoch   1 | 20000/59674 batches | lr 0.002 | ms/batch  3.53 | loss  6.07 | ppl   433.47\n",
      "| epoch   1 | 30000/59674 batches | lr 0.002 | ms/batch  3.53 | loss  6.02 | ppl   411.29\n",
      "| epoch   1 | 40000/59674 batches | lr 0.002 | ms/batch  3.53 | loss  6.06 | ppl   428.91\n",
      "| epoch   1 | 50000/59674 batches | lr 0.002 | ms/batch  3.54 | loss  6.11 | ppl   448.77\n",
      "\n",
      "--- Evaluation ---\n",
      "-----------------------------------------------------------------------------------------\n",
      "| end of epoch   1 | valid loss  6.47 | valid ppl   643.75\n",
      "-----------------------------------------------------------------------------------------\n",
      "\n",
      "--- Training: 3 ---\n",
      "| epoch   2 |     0/59674 batches | lr 0.002 | ms/batch  0.00 | loss  5.95 | ppl   385.38\n",
      "| epoch   2 | 10000/59674 batches | lr 0.002 | ms/batch  3.53 | loss  6.09 | ppl   442.13\n",
      "| epoch   2 | 20000/59674 batches | lr 0.002 | ms/batch  3.53 | loss  6.02 | ppl   412.57\n",
      "| epoch   2 | 30000/59674 batches | lr 0.002 | ms/batch  3.54 | loss  5.95 | ppl   381.87\n",
      "| epoch   2 | 40000/59674 batches | lr 0.002 | ms/batch  3.52 | loss  6.01 | ppl   407.00\n",
      "| epoch   2 | 50000/59674 batches | lr 0.002 | ms/batch  3.53 | loss  6.11 | ppl   448.21\n",
      "\n",
      "--- Evaluation ---\n",
      "-----------------------------------------------------------------------------------------\n",
      "| end of epoch   2 | valid loss  6.52 | valid ppl   681.66\n",
      "-----------------------------------------------------------------------------------------\n",
      "\n",
      "--- Training: 4 ---\n",
      "| epoch   3 |     0/59674 batches | lr 0.0005 | ms/batch  0.00 | loss  5.97 | ppl   392.33\n",
      "| epoch   3 | 10000/59674 batches | lr 0.0005 | ms/batch  3.53 | loss  6.11 | ppl   448.71\n",
      "| epoch   3 | 20000/59674 batches | lr 0.0005 | ms/batch  3.53 | loss  6.04 | ppl   420.86\n",
      "| epoch   3 | 30000/59674 batches | lr 0.0005 | ms/batch  3.52 | loss  5.98 | ppl   393.86\n",
      "| epoch   3 | 40000/59674 batches | lr 0.0005 | ms/batch  3.53 | loss  6.04 | ppl   419.85\n",
      "| epoch   3 | 50000/59674 batches | lr 0.0005 | ms/batch  3.53 | loss  6.11 | ppl   451.57\n",
      "\n",
      "--- Evaluation ---\n",
      "-----------------------------------------------------------------------------------------\n",
      "| end of epoch   3 | valid loss  6.49 | valid ppl   661.42\n",
      "-----------------------------------------------------------------------------------------\n",
      "\n",
      "--- Training: 5 ---\n",
      "| epoch   4 |     0/59674 batches | lr 0.000125 | ms/batch  0.00 | loss  5.98 | ppl   394.98\n",
      "| epoch   4 | 10000/59674 batches | lr 0.000125 | ms/batch  3.53 | loss  6.15 | ppl   468.70\n",
      "| epoch   4 | 20000/59674 batches | lr 0.000125 | ms/batch  3.53 | loss  6.08 | ppl   437.89\n",
      "| epoch   4 | 30000/59674 batches | lr 0.000125 | ms/batch  3.53 | loss  6.03 | ppl   415.66\n",
      "| epoch   4 | 40000/59674 batches | lr 0.000125 | ms/batch  3.53 | loss  6.09 | ppl   439.39\n",
      "| epoch   4 | 50000/59674 batches | lr 0.000125 | ms/batch  3.54 | loss  6.13 | ppl   459.16\n",
      "\n",
      "--- Evaluation ---\n",
      "-----------------------------------------------------------------------------------------\n",
      "| end of epoch   4 | valid loss  6.50 | valid ppl   668.28\n",
      "-----------------------------------------------------------------------------------------\n",
      "\n",
      "--- Training: 6 ---\n",
      "| epoch   5 |     0/59674 batches | lr 3.125e-05 | ms/batch  0.00 | loss  5.98 | ppl   394.81\n",
      "| epoch   5 | 10000/59674 batches | lr 3.125e-05 | ms/batch  3.53 | loss  6.16 | ppl   472.56\n",
      "| epoch   5 | 20000/59674 batches | lr 3.125e-05 | ms/batch  3.55 | loss  6.07 | ppl   431.37\n",
      "| epoch   5 | 30000/59674 batches | lr 3.125e-05 | ms/batch  3.56 | loss  6.02 | ppl   411.59\n",
      "| epoch   5 | 40000/59674 batches | lr 3.125e-05 | ms/batch  3.53 | loss  6.09 | ppl   440.27\n",
      "| epoch   5 | 50000/59674 batches | lr 3.125e-05 | ms/batch  3.53 | loss  6.13 | ppl   461.70\n",
      "\n",
      "--- Evaluation ---\n",
      "-----------------------------------------------------------------------------------------\n",
      "| end of epoch   5 | valid loss  6.54 | valid ppl   695.16\n",
      "-----------------------------------------------------------------------------------------\n",
      "\n",
      "--- Training: 7 ---\n",
      "| epoch   6 |     0/59674 batches | lr 7.8125e-06 | ms/batch  0.00 | loss  5.98 | ppl   393.65\n",
      "| epoch   6 | 10000/59674 batches | lr 7.8125e-06 | ms/batch  3.53 | loss  6.15 | ppl   467.11\n",
      "| epoch   6 | 20000/59674 batches | lr 7.8125e-06 | ms/batch  3.54 | loss  6.08 | ppl   436.01\n",
      "| epoch   6 | 30000/59674 batches | lr 7.8125e-06 | ms/batch  3.53 | loss  6.04 | ppl   418.26\n",
      "| epoch   6 | 40000/59674 batches | lr 7.8125e-06 | ms/batch  3.53 | loss  6.10 | ppl   445.92\n",
      "| epoch   6 | 50000/59674 batches | lr 7.8125e-06 | ms/batch  3.53 | loss  6.12 | ppl   455.94\n",
      "\n",
      "--- Evaluation ---\n",
      "-----------------------------------------------------------------------------------------\n",
      "| end of epoch   6 | valid loss  6.55 | valid ppl   696.12\n",
      "-----------------------------------------------------------------------------------------\n",
      "\n",
      "--- Training: 8 ---\n",
      "| epoch   7 |     0/59674 batches | lr 1.953125e-06 | ms/batch  0.00 | loss  5.98 | ppl   395.22\n",
      "| epoch   7 | 10000/59674 batches | lr 1.953125e-06 | ms/batch  3.52 | loss  6.14 | ppl   463.84\n",
      "| epoch   7 | 20000/59674 batches | lr 1.953125e-06 | ms/batch  3.53 | loss  6.06 | ppl   429.67\n",
      "| epoch   7 | 30000/59674 batches | lr 1.953125e-06 | ms/batch  3.54 | loss  6.01 | ppl   408.26\n",
      "| epoch   7 | 40000/59674 batches | lr 1.953125e-06 | ms/batch  3.53 | loss  6.07 | ppl   433.64\n",
      "| epoch   7 | 50000/59674 batches | lr 1.953125e-06 | ms/batch  3.53 | loss  6.12 | ppl   454.95\n",
      "\n",
      "--- Evaluation ---\n",
      "-----------------------------------------------------------------------------------------\n",
      "| end of epoch   7 | valid loss  6.52 | valid ppl   676.00\n",
      "-----------------------------------------------------------------------------------------\n",
      "\n",
      "--- Training: 9 ---\n",
      "| epoch   8 |     0/59674 batches | lr 4.8828125e-07 | ms/batch  0.00 | loss  5.97 | ppl   391.77\n",
      "| epoch   8 | 10000/59674 batches | lr 4.8828125e-07 | ms/batch  3.53 | loss  6.13 | ppl   460.35\n",
      "| epoch   8 | 20000/59674 batches | lr 4.8828125e-07 | ms/batch  3.52 | loss  6.07 | ppl   434.39\n",
      "| epoch   8 | 30000/59674 batches | lr 4.8828125e-07 | ms/batch  3.54 | loss  6.00 | ppl   404.36\n",
      "| epoch   8 | 40000/59674 batches | lr 4.8828125e-07 | ms/batch  3.53 | loss  6.04 | ppl   420.50\n",
      "| epoch   8 | 50000/59674 batches | lr 4.8828125e-07 | ms/batch  3.52 | loss  6.07 | ppl   431.14\n",
      "\n",
      "--- Evaluation ---\n",
      "-----------------------------------------------------------------------------------------\n",
      "| end of epoch   8 | valid loss  6.50 | valid ppl   664.84\n",
      "-----------------------------------------------------------------------------------------\n",
      "\n",
      "--- Training: 10 ---\n",
      "| epoch   9 |     0/59674 batches | lr 1.220703125e-07 | ms/batch  0.00 | loss  5.93 | ppl   377.96\n",
      "| epoch   9 | 10000/59674 batches | lr 1.220703125e-07 | ms/batch  3.52 | loss  6.11 | ppl   449.17\n",
      "| epoch   9 | 20000/59674 batches | lr 1.220703125e-07 | ms/batch  3.52 | loss  6.05 | ppl   423.50\n",
      "| epoch   9 | 30000/59674 batches | lr 1.220703125e-07 | ms/batch  3.53 | loss  5.99 | ppl   398.17\n",
      "| epoch   9 | 40000/59674 batches | lr 1.220703125e-07 | ms/batch  3.53 | loss  6.04 | ppl   420.49\n",
      "| epoch   9 | 50000/59674 batches | lr 1.220703125e-07 | ms/batch  3.53 | loss  6.07 | ppl   433.16\n",
      "\n",
      "--- Evaluation ---\n",
      "-----------------------------------------------------------------------------------------\n",
      "| end of epoch   9 | valid loss  6.50 | valid ppl   666.50\n",
      "-----------------------------------------------------------------------------------------\n",
      "\n",
      "--- Training: 11 ---\n",
      "| epoch  10 |     0/59674 batches | lr 3.0517578125e-08 | ms/batch  0.00 | loss  5.93 | ppl   374.28\n",
      "| epoch  10 | 10000/59674 batches | lr 3.0517578125e-08 | ms/batch  3.53 | loss  6.09 | ppl   439.99\n",
      "| epoch  10 | 20000/59674 batches | lr 3.0517578125e-08 | ms/batch  3.55 | loss  6.03 | ppl   414.01\n",
      "| epoch  10 | 30000/59674 batches | lr 3.0517578125e-08 | ms/batch  3.57 | loss  5.96 | ppl   387.55\n",
      "| epoch  10 | 40000/59674 batches | lr 3.0517578125e-08 | ms/batch  3.55 | loss  6.00 | ppl   402.23\n",
      "| epoch  10 | 50000/59674 batches | lr 3.0517578125e-08 | ms/batch  3.56 | loss  6.02 | ppl   413.28\n",
      "\n",
      "--- Evaluation ---\n",
      "-----------------------------------------------------------------------------------------\n",
      "| end of epoch  10 | valid loss  6.43 | valid ppl   618.58\n",
      "-----------------------------------------------------------------------------------------\n",
      "\n",
      "--- Training: 12 ---\n",
      "| epoch  11 |     0/59674 batches | lr 3.0517578125e-08 | ms/batch  0.00 | loss  5.87 | ppl   352.58\n",
      "| epoch  11 | 10000/59674 batches | lr 3.0517578125e-08 | ms/batch  3.54 | loss  5.99 | ppl   398.94\n",
      "| epoch  11 | 20000/59674 batches | lr 3.0517578125e-08 | ms/batch  3.54 | loss  5.93 | ppl   376.12\n",
      "| epoch  11 | 30000/59674 batches | lr 3.0517578125e-08 | ms/batch  3.54 | loss  5.85 | ppl   346.29\n",
      "| epoch  11 | 40000/59674 batches | lr 3.0517578125e-08 | ms/batch  3.55 | loss  5.89 | ppl   360.82\n",
      "| epoch  11 | 50000/59674 batches | lr 3.0517578125e-08 | ms/batch  3.54 | loss  5.92 | ppl   373.80\n",
      "\n",
      "--- Evaluation ---\n",
      "-----------------------------------------------------------------------------------------\n",
      "| end of epoch  11 | valid loss  6.37 | valid ppl   582.68\n",
      "-----------------------------------------------------------------------------------------\n",
      "\n",
      "--- Training: 13 ---\n",
      "| epoch  12 |     0/59674 batches | lr 3.0517578125e-08 | ms/batch  0.00 | loss  5.79 | ppl   328.08\n",
      "| epoch  12 | 10000/59674 batches | lr 3.0517578125e-08 | ms/batch  3.53 | loss  5.95 | ppl   383.70\n",
      "| epoch  12 | 20000/59674 batches | lr 3.0517578125e-08 | ms/batch  3.56 | loss  5.89 | ppl   362.80\n",
      "| epoch  12 | 30000/59674 batches | lr 3.0517578125e-08 | ms/batch  3.55 | loss  5.82 | ppl   337.08\n",
      "| epoch  12 | 40000/59674 batches | lr 3.0517578125e-08 | ms/batch  3.54 | loss  5.87 | ppl   354.14\n",
      "| epoch  12 | 50000/59674 batches | lr 3.0517578125e-08 | ms/batch  3.53 | loss  5.92 | ppl   372.10\n",
      "\n",
      "--- Evaluation ---\n",
      "-----------------------------------------------------------------------------------------\n",
      "| end of epoch  12 | valid loss  6.36 | valid ppl   579.43\n",
      "-----------------------------------------------------------------------------------------\n",
      "\n",
      "--- Training: 14 ---\n",
      "| epoch  13 |     0/59674 batches | lr 3.0517578125e-08 | ms/batch  0.00 | loss  5.78 | ppl   322.22\n",
      "| epoch  13 | 10000/59674 batches | lr 3.0517578125e-08 | ms/batch  3.55 | loss  5.93 | ppl   377.62\n",
      "| epoch  13 | 20000/59674 batches | lr 3.0517578125e-08 | ms/batch  3.54 | loss  5.88 | ppl   356.61\n",
      "| epoch  13 | 30000/59674 batches | lr 3.0517578125e-08 | ms/batch  3.53 | loss  5.80 | ppl   331.58\n",
      "| epoch  13 | 40000/59674 batches | lr 3.0517578125e-08 | ms/batch  3.53 | loss  5.87 | ppl   353.82\n",
      "| epoch  13 | 50000/59674 batches | lr 3.0517578125e-08 | ms/batch  3.54 | loss  5.92 | ppl   372.18\n",
      "\n",
      "--- Evaluation ---\n",
      "-----------------------------------------------------------------------------------------\n",
      "| end of epoch  13 | valid loss  6.37 | valid ppl   582.69\n",
      "-----------------------------------------------------------------------------------------\n",
      "\n",
      "--- Training: 15 ---\n",
      "| epoch  14 |     0/59674 batches | lr 7.62939453125e-09 | ms/batch  0.00 | loss  5.78 | ppl   323.85\n",
      "| epoch  14 | 10000/59674 batches | lr 7.62939453125e-09 | ms/batch  3.53 | loss  5.93 | ppl   377.84\n",
      "| epoch  14 | 20000/59674 batches | lr 7.62939453125e-09 | ms/batch  3.54 | loss  5.89 | ppl   361.26\n",
      "| epoch  14 | 30000/59674 batches | lr 7.62939453125e-09 | ms/batch  3.53 | loss  5.83 | ppl   339.99\n",
      "| epoch  14 | 40000/59674 batches | lr 7.62939453125e-09 | ms/batch  3.53 | loss  5.87 | ppl   353.69\n",
      "| epoch  14 | 50000/59674 batches | lr 7.62939453125e-09 | ms/batch  3.53 | loss  5.91 | ppl   370.49\n",
      "\n",
      "--- Evaluation ---\n",
      "-----------------------------------------------------------------------------------------\n",
      "| end of epoch  14 | valid loss  6.37 | valid ppl   581.77\n",
      "-----------------------------------------------------------------------------------------\n",
      "\n",
      "--- Training: 16 ---\n",
      "| epoch  15 |     0/59674 batches | lr 1.9073486328125e-09 | ms/batch  0.00 | loss  5.78 | ppl   322.21\n",
      "| epoch  15 | 10000/59674 batches | lr 1.9073486328125e-09 | ms/batch  3.53 | loss  5.94 | ppl   380.08\n",
      "| epoch  15 | 20000/59674 batches | lr 1.9073486328125e-09 | ms/batch  3.53 | loss  5.89 | ppl   361.15\n",
      "| epoch  15 | 30000/59674 batches | lr 1.9073486328125e-09 | ms/batch  3.53 | loss  5.83 | ppl   341.07\n",
      "| epoch  15 | 40000/59674 batches | lr 1.9073486328125e-09 | ms/batch  3.53 | loss  5.87 | ppl   355.40\n",
      "| epoch  15 | 50000/59674 batches | lr 1.9073486328125e-09 | ms/batch  3.53 | loss  5.92 | ppl   371.19\n",
      "\n",
      "--- Evaluation ---\n",
      "-----------------------------------------------------------------------------------------\n",
      "| end of epoch  15 | valid loss  6.38 | valid ppl   587.82\n",
      "-----------------------------------------------------------------------------------------\n",
      "\n",
      "--- Training: 17 ---\n",
      "| epoch  16 |     0/59674 batches | lr 4.76837158203125e-10 | ms/batch  0.00 | loss  5.77 | ppl   321.70\n",
      "| epoch  16 | 10000/59674 batches | lr 4.76837158203125e-10 | ms/batch  3.54 | loss  5.94 | ppl   379.64\n",
      "| epoch  16 | 20000/59674 batches | lr 4.76837158203125e-10 | ms/batch  3.53 | loss  5.88 | ppl   358.72\n",
      "| epoch  16 | 30000/59674 batches | lr 4.76837158203125e-10 | ms/batch  3.54 | loss  5.81 | ppl   335.27\n",
      "| epoch  16 | 40000/59674 batches | lr 4.76837158203125e-10 | ms/batch  3.56 | loss  5.86 | ppl   351.03\n",
      "| epoch  16 | 50000/59674 batches | lr 4.76837158203125e-10 | ms/batch  3.56 | loss  5.91 | ppl   367.34\n",
      "\n",
      "--- Evaluation ---\n",
      "-----------------------------------------------------------------------------------------\n",
      "| end of epoch  16 | valid loss  6.38 | valid ppl   589.94\n",
      "-----------------------------------------------------------------------------------------\n",
      "\n",
      "--- Training: 18 ---\n",
      "| epoch  17 |     0/59674 batches | lr 1.1920928955078125e-10 | ms/batch  0.00 | loss  5.77 | ppl   320.45\n",
      "| epoch  17 | 10000/59674 batches | lr 1.1920928955078125e-10 | ms/batch  3.55 | loss  5.92 | ppl   374.22\n",
      "| epoch  17 | 20000/59674 batches | lr 1.1920928955078125e-10 | ms/batch  3.55 | loss  5.88 | ppl   356.20\n",
      "| epoch  17 | 30000/59674 batches | lr 1.1920928955078125e-10 | ms/batch  3.54 | loss  5.81 | ppl   334.26\n",
      "| epoch  17 | 40000/59674 batches | lr 1.1920928955078125e-10 | ms/batch  3.55 | loss  5.86 | ppl   350.23\n",
      "| epoch  17 | 50000/59674 batches | lr 1.1920928955078125e-10 | ms/batch  3.54 | loss  5.90 | ppl   365.34\n",
      "\n",
      "--- Evaluation ---\n",
      "-----------------------------------------------------------------------------------------\n",
      "| end of epoch  17 | valid loss  6.37 | valid ppl   584.31\n",
      "-----------------------------------------------------------------------------------------\n",
      "\n",
      "--- Training: 19 ---\n",
      "| epoch  18 |     0/59674 batches | lr 2.980232238769531e-11 | ms/batch  0.00 | loss  5.76 | ppl   318.21\n",
      "| epoch  18 | 10000/59674 batches | lr 2.980232238769531e-11 | ms/batch  3.53 | loss  5.93 | ppl   374.59\n",
      "| epoch  18 | 20000/59674 batches | lr 2.980232238769531e-11 | ms/batch  3.53 | loss  5.87 | ppl   353.26\n",
      "| epoch  18 | 30000/59674 batches | lr 2.980232238769531e-11 | ms/batch  3.53 | loss  5.81 | ppl   333.23\n",
      "| epoch  18 | 40000/59674 batches | lr 2.980232238769531e-11 | ms/batch  3.53 | loss  5.86 | ppl   352.06\n",
      "| epoch  18 | 50000/59674 batches | lr 2.980232238769531e-11 | ms/batch  3.53 | loss  5.90 | ppl   364.09\n",
      "\n",
      "--- Evaluation ---\n",
      "-----------------------------------------------------------------------------------------\n",
      "| end of epoch  18 | valid loss  6.37 | valid ppl   585.12\n",
      "-----------------------------------------------------------------------------------------\n",
      "\n",
      "--- Training: 20 ---\n",
      "| epoch  19 |     0/59674 batches | lr 7.450580596923828e-12 | ms/batch  0.00 | loss  5.76 | ppl   316.26\n",
      "| epoch  19 | 10000/59674 batches | lr 7.450580596923828e-12 | ms/batch  3.53 | loss  5.92 | ppl   371.38\n",
      "| epoch  19 | 20000/59674 batches | lr 7.450580596923828e-12 | ms/batch  3.54 | loss  5.87 | ppl   354.41\n",
      "| epoch  19 | 30000/59674 batches | lr 7.450580596923828e-12 | ms/batch  3.54 | loss  5.80 | ppl   331.73\n",
      "| epoch  19 | 40000/59674 batches | lr 7.450580596923828e-12 | ms/batch  3.53 | loss  5.85 | ppl   347.00\n",
      "| epoch  19 | 50000/59674 batches | lr 7.450580596923828e-12 | ms/batch  3.52 | loss  5.89 | ppl   361.18\n",
      "\n",
      "--- Evaluation ---\n",
      "-----------------------------------------------------------------------------------------\n",
      "| end of epoch  19 | valid loss  6.38 | valid ppl   592.31\n",
      "-----------------------------------------------------------------------------------------\n"
     ]
    }
   ],
   "source": [
    "lr = args.lr\n",
    "criterion = nn.NLLLoss()\n",
    "ntokens = len(corpus.dictionary)\n",
    "model = FNNModel(ntokens, args.emsize, args.ngram, args.nhid).to(device)\n",
    "optimizer = optim.Adam(model.parameters(), lr = lr)\n",
    "\n",
    "best_perplexity = None\n",
    "total_loss = 0\n",
    "\n",
    "hist_loss = []\n",
    "hist_val_loss = []\n",
    "hist_perplexity = []\n",
    "hist_val_perplexity = []\n",
    "\n",
    "for epoch in range(args.epochs):\n",
    "    start_time = time.time()\n",
    "    \n",
    "    epoch_loss = 0\n",
    "    epoch_perplexity = 0\n",
    "    \n",
    "    print(\"\\n--- Training: {} ---\".format(epoch+1))\n",
    "    for batch, i in enumerate(range(0, train_data.size(0) - 1, args.bptt)):\n",
    "        data, targets = get_batch(train_data, i)\n",
    "        model.zero_grad()\n",
    "        output = model(data)\n",
    "        loss = criterion(output, targets)\n",
    "        loss.backward()\n",
    "        optimizer.step()\n",
    "        \n",
    "        total_loss += loss.item()\n",
    "        epoch_loss += loss.item()\n",
    "        epoch_perplexity += math.exp(loss.item())\n",
    "\n",
    "        if batch % args.log_interval == 0 and batch >= 0:\n",
    "            cur_loss = total_loss / args.log_interval\n",
    "            elapsed = time.time() - start_time\n",
    "            print('| epoch {:3d} | {:5d}/{:5d} batches | lr {} | ms/batch {:5.2f} | '\n",
    "                  'loss {:5.2f} | ppl {:8.2f}'.format(\n",
    "                      epoch, batch, len(train_data) // args.bptt, lr,\n",
    "                      elapsed * 1000 / args.log_interval, cur_loss, math.exp(cur_loss)))\n",
    "            total_loss = 0\n",
    "            start_time = time.time()\n",
    "    \n",
    "    hist_loss.append(epoch_loss / batch)\n",
    "    hist_perplexity.append(epoch_perplexity / batch)\n",
    "\n",
    "    print(\"\\n--- Evaluation ---\")\n",
    "    crossval_loss = evaluate(model, val_data)\n",
    "    crossval_perplexity = math.exp(crossval_loss)\n",
    "    print('-' * 89)\n",
    "    print('| end of epoch {:3d} | valid loss {:5.2f} | '\n",
    "              'valid ppl {:8.2f}'.format(epoch, crossval_loss, crossval_perplexity))\n",
    "    print('-' * 89)\n",
    "    \n",
    "    hist_val_loss.append(crossval_loss)\n",
    "    hist_val_perplexity.append(crossval_perplexity)\n",
    "    \n",
    "    if not best_perplexity or crossval_perplexity < best_perplexity:\n",
    "        best_perplexity = crossval_perplexity\n",
    "        with open(args.save, 'wb') as f:\n",
    "            torch.save(model, f)\n",
    "    else:\n",
    "        lr /= 4.0"
   ]
  },
  {
   "cell_type": "code",
   "execution_count": 10,
   "id": "1e8ff2bc",
   "metadata": {
    "execution": {
     "iopub.execute_input": "2021-11-10T01:01:35.623207Z",
     "iopub.status.busy": "2021-11-10T01:01:35.622406Z",
     "iopub.status.idle": "2021-11-10T01:01:36.149422Z",
     "shell.execute_reply": "2021-11-10T01:01:36.149891Z",
     "shell.execute_reply.started": "2021-11-09T23:49:32.350090Z"
    },
    "executionInfo": {
     "elapsed": 941,
     "status": "ok",
     "timestamp": 1606628915982,
     "user": {
      "displayName": "yong wei",
      "photoUrl": "https://lh3.googleusercontent.com/a-/AOh14GhYJ6D3p-i8GPWEqh4u2s4VniV_lHZd6l3-eHSaqA=s64",
      "userId": "07110467073693299033"
     },
     "user_tz": -480
    },
    "id": "6Y8ffPM8skp7",
    "outputId": "794bd37a-65e9-4d25-a248-709ad7c72971",
    "papermill": {
     "duration": 0.599372,
     "end_time": "2021-11-10T01:01:36.150049",
     "exception": false,
     "start_time": "2021-11-10T01:01:35.550677",
     "status": "completed"
    },
    "tags": []
   },
   "outputs": [
    {
     "data": {
      "image/png": "[encoded data removed]",
      "text/plain": [
       "<Figure size 432x432 with 1 Axes>"
      ]
     },
     "metadata": {},
     "output_type": "display_data"
    }
   ],
   "source": [
    "plt.style.use(\"seaborn\")\n",
    "\n",
    "fig = plt.figure(figsize =(6, 6))\n",
    "plt.plot(hist_loss)\n",
    "plt.plot(hist_val_loss)\n",
    "plt.title('Model Loss Plot')\n",
    "plt.ylabel('Loss')\n",
    "plt.xlabel('Epoch')\n",
    "plt.legend(['train', 'val'])\n",
    "plt.show()\n",
    "\n",
    "fig.savefig('loss.png', bbox_inches='tight')"
   ]
  },
  {
   "cell_type": "code",
   "execution_count": 11,
   "id": "289b4b70",
   "metadata": {
    "execution": {
     "iopub.execute_input": "2021-11-10T01:01:36.322732Z",
     "iopub.status.busy": "2021-11-10T01:01:36.321611Z",
     "iopub.status.idle": "2021-11-10T01:01:36.621357Z",
     "shell.execute_reply": "2021-11-10T01:01:36.622096Z",
     "shell.execute_reply.started": "2021-11-08T11:39:24.888641Z"
    },
    "executionInfo": {
     "elapsed": 943,
     "status": "ok",
     "timestamp": 1606628923578,
     "user": {
      "displayName": "yong wei",
      "photoUrl": "https://lh3.googleusercontent.com/a-/AOh14GhYJ6D3p-i8GPWEqh4u2s4VniV_lHZd6l3-eHSaqA=s64",
      "userId": "07110467073693299033"
     },
     "user_tz": -480
    },
    "id": "jrZ_F2WBoAo2",
    "outputId": "8f1b3db3-3f42-459f-863a-3d41216d6eba",
    "papermill": {
     "duration": 0.384977,
     "end_time": "2021-11-10T01:01:36.622253",
     "exception": false,
     "start_time": "2021-11-10T01:01:36.237276",
     "status": "completed"
    },
    "tags": []
   },
   "outputs": [
    {
     "data": {
      "image/png": "[encoded data removed]",
      "text/plain": [
       "<Figure size 432x432 with 1 Axes>"
      ]
     },
     "metadata": {},
     "output_type": "display_data"
    }
   ],
   "source": [
    "plt.style.use(\"seaborn\")\n",
    "\n",
    "fig = plt.figure(figsize =(6, 6))\n",
    "plt.plot(hist_perplexity)\n",
    "plt.plot(hist_val_perplexity)\n",
    "plt.title('Model Perplexity Plot')\n",
    "plt.ylabel('Perplexity')\n",
    "plt.xlabel('Epoch')\n",
    "plt.legend(['train', 'val'])\n",
    "plt.show()\n",
    "\n",
    "fig.savefig('ppl.png', bbox_inches='tight')"
   ]
  },
  {
   "cell_type": "markdown",
   "id": "4dc84127",
   "metadata": {
    "id": "n5A94g4D9HmI",
    "papermill": {
     "duration": 0.055228,
     "end_time": "2021-11-10T01:01:36.734091",
     "exception": false,
     "start_time": "2021-11-10T01:01:36.678863",
     "status": "completed"
    },
    "tags": []
   },
   "source": [
    "## 1.5 Perplexity Score on the Test Set"
   ]
  },
  {
   "cell_type": "code",
   "execution_count": 12,
   "id": "6c1d6192",
   "metadata": {
    "execution": {
     "iopub.execute_input": "2021-11-10T01:01:36.852975Z",
     "iopub.status.busy": "2021-11-10T01:01:36.851856Z",
     "iopub.status.idle": "2021-11-10T01:01:39.756983Z",
     "shell.execute_reply": "2021-11-10T01:01:39.757804Z",
     "shell.execute_reply.started": "2021-11-08T11:39:24.89034Z"
    },
    "id": "L4tq4ShaoMOs",
    "papermill": {
     "duration": 2.96821,
     "end_time": "2021-11-10T01:01:39.757964",
     "exception": false,
     "start_time": "2021-11-10T01:01:36.789754",
     "status": "completed"
    },
    "tags": []
   },
   "outputs": [
    {
     "name": "stdout",
     "output_type": "stream",
     "text": [
      "-----------------------------------------------------------------------------------------\n",
      "| test loss  6.29 | test ppl   539.79\n",
      "-----------------------------------------------------------------------------------------\n"
     ]
    }
   ],
   "source": [
    "with open(args.save, 'rb') as f:\n",
    "    model = torch.load(f)\n",
    "\n",
    "test_loss = evaluate(model, test_data)\n",
    "print('-' * 89)\n",
    "print('| test loss {:5.2f} | test ppl {:8.2f}'.format(test_loss, math.exp(test_loss)))\n",
    "print('-' * 89)"
   ]
  },
  {
   "cell_type": "markdown",
   "id": "4162c3d5",
   "metadata": {
    "id": "o3PHXt9PAaEX",
    "papermill": {
     "duration": 0.054724,
     "end_time": "2021-11-10T01:01:39.868458",
     "exception": false,
     "start_time": "2021-11-10T01:01:39.813734",
     "status": "completed"
    },
    "tags": []
   },
   "source": [
    "## 1.6 Sharing the Input and Output Layer Embeddings\n",
    "> **Source:** PyTorch Examples - https://github.com/pytorch/examples/blob/master/word_language_model/main.py"
   ]
  },
  {
   "cell_type": "code",
   "execution_count": 13,
   "id": "0a3417ab",
   "metadata": {
    "execution": {
     "iopub.execute_input": "2021-11-10T01:01:39.994174Z",
     "iopub.status.busy": "2021-11-10T01:01:39.993344Z",
     "iopub.status.idle": "2021-11-10T02:12:48.734805Z",
     "shell.execute_reply": "2021-11-10T02:12:48.735236Z",
     "shell.execute_reply.started": "2021-11-08T11:39:24.89203Z"
    },
    "executionInfo": {
     "elapsed": 4239037,
     "status": "ok",
     "timestamp": 1606640620267,
     "user": {
      "displayName": "yong wei",
      "photoUrl": "https://lh3.googleusercontent.com/a-/AOh14GhYJ6D3p-i8GPWEqh4u2s4VniV_lHZd6l3-eHSaqA=s64",
      "userId": "07110467073693299033"
     },
     "user_tz": -480
    },
    "id": "gdW0iP-N8nP_",
    "outputId": "20395475-3b59-4763-ce98-f629555db618",
    "papermill": {
     "duration": 4268.811757,
     "end_time": "2021-11-10T02:12:48.735415",
     "exception": false,
     "start_time": "2021-11-10T01:01:39.923658",
     "status": "completed"
    },
    "tags": []
   },
   "outputs": [
    {
     "name": "stdout",
     "output_type": "stream",
     "text": [
      "\n",
      "--- Training: 1 ---\n",
      "| epoch   0 |     0/59674 batches | lr 0.002 | ms/batch  0.00 | loss  0.00 | ppl     1.00\n",
      "| epoch   0 | 10000/59674 batches | lr 0.002 | ms/batch  3.52 | loss  6.53 | ppl   682.00\n",
      "| epoch   0 | 20000/59674 batches | lr 0.002 | ms/batch  3.53 | loss  6.24 | ppl   511.00\n",
      "| epoch   0 | 30000/59674 batches | lr 0.002 | ms/batch  3.53 | loss  6.09 | ppl   439.74\n",
      "| epoch   0 | 40000/59674 batches | lr 0.002 | ms/batch  3.53 | loss  6.09 | ppl   440.42\n",
      "| epoch   0 | 50000/59674 batches | lr 0.002 | ms/batch  3.52 | loss  6.15 | ppl   470.13\n",
      "\n",
      "--- Evaluation ---\n",
      "-----------------------------------------------------------------------------------------\n",
      "| end of epoch   0 | valid loss  6.57 | valid ppl   712.19\n",
      "-----------------------------------------------------------------------------------------\n",
      "\n",
      "--- Training: 2 ---\n",
      "| epoch   1 |     0/59674 batches | lr 0.002 | ms/batch  0.00 | loss  5.97 | ppl   392.23\n",
      "| epoch   1 | 10000/59674 batches | lr 0.002 | ms/batch  3.53 | loss  6.14 | ppl   464.79\n",
      "| epoch   1 | 20000/59674 batches | lr 0.002 | ms/batch  3.54 | loss  6.08 | ppl   438.71\n",
      "| epoch   1 | 30000/59674 batches | lr 0.002 | ms/batch  3.55 | loss  5.99 | ppl   399.89\n",
      "| epoch   1 | 40000/59674 batches | lr 0.002 | ms/batch  3.53 | loss  6.02 | ppl   412.11\n",
      "| epoch   1 | 50000/59674 batches | lr 0.002 | ms/batch  3.53 | loss  6.06 | ppl   426.84\n",
      "\n",
      "--- Evaluation ---\n",
      "-----------------------------------------------------------------------------------------\n",
      "| end of epoch   1 | valid loss  6.46 | valid ppl   639.29\n",
      "-----------------------------------------------------------------------------------------\n",
      "\n",
      "--- Training: 3 ---\n",
      "| epoch   2 |     0/59674 batches | lr 0.002 | ms/batch  0.00 | loss  5.92 | ppl   373.34\n",
      "| epoch   2 | 10000/59674 batches | lr 0.002 | ms/batch  3.53 | loss  6.09 | ppl   443.20\n",
      "| epoch   2 | 20000/59674 batches | lr 0.002 | ms/batch  3.53 | loss  6.03 | ppl   417.59\n",
      "| epoch   2 | 30000/59674 batches | lr 0.002 | ms/batch  3.53 | loss  5.95 | ppl   383.65\n",
      "| epoch   2 | 40000/59674 batches | lr 0.002 | ms/batch  3.54 | loss  5.99 | ppl   401.16\n",
      "| epoch   2 | 50000/59674 batches | lr 0.002 | ms/batch  3.53 | loss  6.04 | ppl   419.64\n",
      "\n",
      "--- Evaluation ---\n",
      "-----------------------------------------------------------------------------------------\n",
      "| end of epoch   2 | valid loss  6.43 | valid ppl   617.67\n",
      "-----------------------------------------------------------------------------------------\n",
      "\n",
      "--- Training: 4 ---\n",
      "| epoch   3 |     0/59674 batches | lr 0.002 | ms/batch  0.00 | loss  5.89 | ppl   361.66\n",
      "| epoch   3 | 10000/59674 batches | lr 0.002 | ms/batch  3.53 | loss  6.07 | ppl   430.68\n",
      "| epoch   3 | 20000/59674 batches | lr 0.002 | ms/batch  3.54 | loss  6.00 | ppl   404.21\n",
      "| epoch   3 | 30000/59674 batches | lr 0.002 | ms/batch  3.53 | loss  5.93 | ppl   374.54\n",
      "| epoch   3 | 40000/59674 batches | lr 0.002 | ms/batch  3.54 | loss  5.97 | ppl   389.67\n",
      "| epoch   3 | 50000/59674 batches | lr 0.002 | ms/batch  3.53 | loss  6.00 | ppl   404.40\n",
      "\n",
      "--- Evaluation ---\n",
      "-----------------------------------------------------------------------------------------\n",
      "| end of epoch   3 | valid loss  6.41 | valid ppl   608.48\n",
      "-----------------------------------------------------------------------------------------\n",
      "\n",
      "--- Training: 5 ---\n",
      "| epoch   4 |     0/59674 batches | lr 0.002 | ms/batch  0.00 | loss  5.86 | ppl   350.73\n",
      "| epoch   4 | 10000/59674 batches | lr 0.002 | ms/batch  3.53 | loss  6.03 | ppl   415.35\n",
      "| epoch   4 | 20000/59674 batches | lr 0.002 | ms/batch  3.53 | loss  5.98 | ppl   396.12\n",
      "| epoch   4 | 30000/59674 batches | lr 0.002 | ms/batch  3.53 | loss  5.90 | ppl   366.38\n",
      "| epoch   4 | 40000/59674 batches | lr 0.002 | ms/batch  3.53 | loss  5.94 | ppl   379.81\n",
      "| epoch   4 | 50000/59674 batches | lr 0.002 | ms/batch  3.53 | loss  5.96 | ppl   388.67\n",
      "\n",
      "--- Evaluation ---\n",
      "-----------------------------------------------------------------------------------------\n",
      "| end of epoch   4 | valid loss  6.38 | valid ppl   590.58\n",
      "-----------------------------------------------------------------------------------------\n",
      "\n",
      "--- Training: 6 ---\n",
      "| epoch   5 |     0/59674 batches | lr 0.002 | ms/batch  0.00 | loss  5.82 | ppl   335.53\n",
      "| epoch   5 | 10000/59674 batches | lr 0.002 | ms/batch  3.54 | loss  5.97 | ppl   392.27\n",
      "| epoch   5 | 20000/59674 batches | lr 0.002 | ms/batch  3.53 | loss  5.92 | ppl   373.44\n",
      "| epoch   5 | 30000/59674 batches | lr 0.002 | ms/batch  3.54 | loss  5.85 | ppl   347.59\n",
      "| epoch   5 | 40000/59674 batches | lr 0.002 | ms/batch  3.54 | loss  5.90 | ppl   364.52\n",
      "| epoch   5 | 50000/59674 batches | lr 0.002 | ms/batch  3.52 | loss  5.94 | ppl   380.76\n",
      "\n",
      "--- Evaluation ---\n",
      "-----------------------------------------------------------------------------------------\n",
      "| end of epoch   5 | valid loss  6.38 | valid ppl   590.86\n",
      "-----------------------------------------------------------------------------------------\n",
      "\n",
      "--- Training: 7 ---\n",
      "| epoch   6 |     0/59674 batches | lr 0.0005 | ms/batch  0.00 | loss  5.80 | ppl   328.76\n",
      "| epoch   6 | 10000/59674 batches | lr 0.0005 | ms/batch  3.54 | loss  5.96 | ppl   388.81\n",
      "| epoch   6 | 20000/59674 batches | lr 0.0005 | ms/batch  3.53 | loss  5.92 | ppl   371.39\n",
      "| epoch   6 | 30000/59674 batches | lr 0.0005 | ms/batch  3.53 | loss  5.84 | ppl   344.10\n",
      "| epoch   6 | 40000/59674 batches | lr 0.0005 | ms/batch  3.53 | loss  5.89 | ppl   362.79\n",
      "| epoch   6 | 50000/59674 batches | lr 0.0005 | ms/batch  3.53 | loss  5.92 | ppl   373.11\n",
      "\n",
      "--- Evaluation ---\n",
      "-----------------------------------------------------------------------------------------\n",
      "| end of epoch   6 | valid loss  6.38 | valid ppl   587.25\n",
      "-----------------------------------------------------------------------------------------\n",
      "\n",
      "--- Training: 8 ---\n",
      "| epoch   7 |     0/59674 batches | lr 0.0005 | ms/batch  0.00 | loss  5.78 | ppl   322.19\n",
      "| epoch   7 | 10000/59674 batches | lr 0.0005 | ms/batch  3.53 | loss  5.93 | ppl   377.43\n",
      "| epoch   7 | 20000/59674 batches | lr 0.0005 | ms/batch  3.54 | loss  5.91 | ppl   367.26\n",
      "| epoch   7 | 30000/59674 batches | lr 0.0005 | ms/batch  3.53 | loss  5.91 | ppl   367.58\n",
      "| epoch   7 | 40000/59674 batches | lr 0.0005 | ms/batch  3.53 | loss  5.96 | ppl   386.78\n",
      "| epoch   7 | 50000/59674 batches | lr 0.0005 | ms/batch  3.53 | loss  6.02 | ppl   411.73\n",
      "\n",
      "--- Evaluation ---\n",
      "-----------------------------------------------------------------------------------------\n",
      "| end of epoch   7 | valid loss  6.40 | valid ppl   604.64\n",
      "-----------------------------------------------------------------------------------------\n",
      "\n",
      "--- Training: 9 ---\n",
      "| epoch   8 |     0/59674 batches | lr 0.000125 | ms/batch  0.00 | loss  5.87 | ppl   352.59\n",
      "| epoch   8 | 10000/59674 batches | lr 0.000125 | ms/batch  3.53 | loss  6.03 | ppl   414.34\n",
      "| epoch   8 | 20000/59674 batches | lr 0.000125 | ms/batch  3.53 | loss  5.97 | ppl   391.92\n",
      "| epoch   8 | 30000/59674 batches | lr 0.000125 | ms/batch  3.53 | loss  5.91 | ppl   369.75\n",
      "| epoch   8 | 40000/59674 batches | lr 0.000125 | ms/batch  3.52 | loss  5.97 | ppl   389.59\n",
      "| epoch   8 | 50000/59674 batches | lr 0.000125 | ms/batch  3.53 | loss  6.01 | ppl   408.13\n",
      "\n",
      "--- Evaluation ---\n",
      "-----------------------------------------------------------------------------------------\n",
      "| end of epoch   8 | valid loss  6.41 | valid ppl   606.02\n",
      "-----------------------------------------------------------------------------------------\n",
      "\n",
      "--- Training: 10 ---\n",
      "| epoch   9 |     0/59674 batches | lr 3.125e-05 | ms/batch  0.00 | loss  5.86 | ppl   349.51\n",
      "| epoch   9 | 10000/59674 batches | lr 3.125e-05 | ms/batch  3.53 | loss  6.02 | ppl   411.65\n",
      "| epoch   9 | 20000/59674 batches | lr 3.125e-05 | ms/batch  3.53 | loss  5.96 | ppl   387.86\n",
      "| epoch   9 | 30000/59674 batches | lr 3.125e-05 | ms/batch  3.53 | loss  5.90 | ppl   363.31\n",
      "| epoch   9 | 40000/59674 batches | lr 3.125e-05 | ms/batch  3.52 | loss  5.95 | ppl   384.64\n",
      "| epoch   9 | 50000/59674 batches | lr 3.125e-05 | ms/batch  3.53 | loss  5.99 | ppl   399.25\n",
      "\n",
      "--- Evaluation ---\n",
      "-----------------------------------------------------------------------------------------\n",
      "| end of epoch   9 | valid loss  6.41 | valid ppl   605.00\n",
      "-----------------------------------------------------------------------------------------\n",
      "\n",
      "--- Training: 11 ---\n",
      "| epoch  10 |     0/59674 batches | lr 7.8125e-06 | ms/batch  0.00 | loss  5.83 | ppl   341.74\n",
      "| epoch  10 | 10000/59674 batches | lr 7.8125e-06 | ms/batch  3.53 | loss  6.00 | ppl   402.06\n",
      "| epoch  10 | 20000/59674 batches | lr 7.8125e-06 | ms/batch  3.53 | loss  5.94 | ppl   381.52\n",
      "| epoch  10 | 30000/59674 batches | lr 7.8125e-06 | ms/batch  3.54 | loss  5.89 | ppl   360.18\n",
      "| epoch  10 | 40000/59674 batches | lr 7.8125e-06 | ms/batch  3.52 | loss  5.93 | ppl   377.67\n",
      "| epoch  10 | 50000/59674 batches | lr 7.8125e-06 | ms/batch  3.53 | loss  5.99 | ppl   397.76\n",
      "\n",
      "--- Evaluation ---\n",
      "-----------------------------------------------------------------------------------------\n",
      "| end of epoch  10 | valid loss  6.40 | valid ppl   601.37\n",
      "-----------------------------------------------------------------------------------------\n",
      "\n",
      "--- Training: 12 ---\n",
      "| epoch  11 |     0/59674 batches | lr 1.953125e-06 | ms/batch  0.00 | loss  5.85 | ppl   346.28\n",
      "| epoch  11 | 10000/59674 batches | lr 1.953125e-06 | ms/batch  3.53 | loss  6.01 | ppl   406.20\n",
      "| epoch  11 | 20000/59674 batches | lr 1.953125e-06 | ms/batch  3.53 | loss  5.95 | ppl   384.78\n",
      "| epoch  11 | 30000/59674 batches | lr 1.953125e-06 | ms/batch  3.53 | loss  5.89 | ppl   360.33\n",
      "| epoch  11 | 40000/59674 batches | lr 1.953125e-06 | ms/batch  3.53 | loss  5.94 | ppl   379.95\n",
      "| epoch  11 | 50000/59674 batches | lr 1.953125e-06 | ms/batch  3.52 | loss  5.99 | ppl   400.12\n",
      "\n",
      "--- Evaluation ---\n",
      "-----------------------------------------------------------------------------------------\n",
      "| end of epoch  11 | valid loss  6.41 | valid ppl   605.20\n",
      "-----------------------------------------------------------------------------------------\n",
      "\n",
      "--- Training: 13 ---\n",
      "| epoch  12 |     0/59674 batches | lr 4.8828125e-07 | ms/batch  0.00 | loss  5.84 | ppl   343.52\n",
      "| epoch  12 | 10000/59674 batches | lr 4.8828125e-07 | ms/batch  3.52 | loss  6.00 | ppl   402.20\n",
      "| epoch  12 | 20000/59674 batches | lr 4.8828125e-07 | ms/batch  3.53 | loss  5.95 | ppl   383.35\n",
      "| epoch  12 | 30000/59674 batches | lr 4.8828125e-07 | ms/batch  3.53 | loss  5.89 | ppl   362.83\n",
      "| epoch  12 | 40000/59674 batches | lr 4.8828125e-07 | ms/batch  3.53 | loss  5.93 | ppl   377.29\n",
      "| epoch  12 | 50000/59674 batches | lr 4.8828125e-07 | ms/batch  3.53 | loss  5.98 | ppl   396.49\n",
      "\n",
      "--- Evaluation ---\n",
      "-----------------------------------------------------------------------------------------\n",
      "| end of epoch  12 | valid loss  6.40 | valid ppl   604.17\n",
      "-----------------------------------------------------------------------------------------\n",
      "\n",
      "--- Training: 14 ---\n",
      "| epoch  13 |     0/59674 batches | lr 1.220703125e-07 | ms/batch  0.00 | loss  5.83 | ppl   340.69\n",
      "| epoch  13 | 10000/59674 batches | lr 1.220703125e-07 | ms/batch  3.53 | loss  6.00 | ppl   403.45\n",
      "| epoch  13 | 20000/59674 batches | lr 1.220703125e-07 | ms/batch  3.54 | loss  5.94 | ppl   381.55\n",
      "| epoch  13 | 30000/59674 batches | lr 1.220703125e-07 | ms/batch  3.53 | loss  5.89 | ppl   360.96\n",
      "| epoch  13 | 40000/59674 batches | lr 1.220703125e-07 | ms/batch  3.53 | loss  5.95 | ppl   384.07\n",
      "| epoch  13 | 50000/59674 batches | lr 1.220703125e-07 | ms/batch  3.53 | loss  5.99 | ppl   399.78\n",
      "\n",
      "--- Evaluation ---\n",
      "-----------------------------------------------------------------------------------------\n",
      "| end of epoch  13 | valid loss  6.41 | valid ppl   607.56\n",
      "-----------------------------------------------------------------------------------------\n",
      "\n",
      "--- Training: 15 ---\n",
      "| epoch  14 |     0/59674 batches | lr 3.0517578125e-08 | ms/batch  0.00 | loss  5.83 | ppl   340.02\n",
      "| epoch  14 | 10000/59674 batches | lr 3.0517578125e-08 | ms/batch  3.53 | loss  5.99 | ppl   397.59\n",
      "| epoch  14 | 20000/59674 batches | lr 3.0517578125e-08 | ms/batch  3.53 | loss  5.93 | ppl   375.38\n",
      "| epoch  14 | 30000/59674 batches | lr 3.0517578125e-08 | ms/batch  3.53 | loss  5.87 | ppl   353.31\n",
      "| epoch  14 | 40000/59674 batches | lr 3.0517578125e-08 | ms/batch  3.53 | loss  5.93 | ppl   376.06\n",
      "| epoch  14 | 50000/59674 batches | lr 3.0517578125e-08 | ms/batch  3.53 | loss  5.97 | ppl   392.30\n",
      "\n",
      "--- Evaluation ---\n",
      "-----------------------------------------------------------------------------------------\n",
      "| end of epoch  14 | valid loss  6.42 | valid ppl   616.86\n",
      "-----------------------------------------------------------------------------------------\n",
      "\n",
      "--- Training: 16 ---\n",
      "| epoch  15 |     0/59674 batches | lr 7.62939453125e-09 | ms/batch  0.00 | loss  5.83 | ppl   339.49\n",
      "| epoch  15 | 10000/59674 batches | lr 7.62939453125e-09 | ms/batch  3.53 | loss  5.98 | ppl   396.97\n",
      "| epoch  15 | 20000/59674 batches | lr 7.62939453125e-09 | ms/batch  3.53 | loss  5.91 | ppl   369.44\n",
      "| epoch  15 | 30000/59674 batches | lr 7.62939453125e-09 | ms/batch  3.54 | loss  5.84 | ppl   345.28\n",
      "| epoch  15 | 40000/59674 batches | lr 7.62939453125e-09 | ms/batch  3.52 | loss  5.92 | ppl   373.74\n",
      "| epoch  15 | 50000/59674 batches | lr 7.62939453125e-09 | ms/batch  3.53 | loss  5.96 | ppl   388.15\n",
      "\n",
      "--- Evaluation ---\n",
      "-----------------------------------------------------------------------------------------\n",
      "| end of epoch  15 | valid loss  6.42 | valid ppl   614.41\n",
      "-----------------------------------------------------------------------------------------\n",
      "\n",
      "--- Training: 17 ---\n",
      "| epoch  16 |     0/59674 batches | lr 1.9073486328125e-09 | ms/batch  0.00 | loss  5.81 | ppl   334.37\n",
      "| epoch  16 | 10000/59674 batches | lr 1.9073486328125e-09 | ms/batch  3.54 | loss  5.96 | ppl   385.98\n",
      "| epoch  16 | 20000/59674 batches | lr 1.9073486328125e-09 | ms/batch  3.62 | loss  5.91 | ppl   368.35\n",
      "| epoch  16 | 30000/59674 batches | lr 1.9073486328125e-09 | ms/batch  3.53 | loss  5.84 | ppl   344.77\n",
      "| epoch  16 | 40000/59674 batches | lr 1.9073486328125e-09 | ms/batch  3.53 | loss  5.90 | ppl   365.76\n",
      "| epoch  16 | 50000/59674 batches | lr 1.9073486328125e-09 | ms/batch  3.53 | loss  5.95 | ppl   384.17\n",
      "\n",
      "--- Evaluation ---\n",
      "-----------------------------------------------------------------------------------------\n",
      "| end of epoch  16 | valid loss  6.42 | valid ppl   616.46\n",
      "-----------------------------------------------------------------------------------------\n",
      "\n",
      "--- Training: 18 ---\n",
      "| epoch  17 |     0/59674 batches | lr 4.76837158203125e-10 | ms/batch  0.00 | loss  5.81 | ppl   334.17\n",
      "| epoch  17 | 10000/59674 batches | lr 4.76837158203125e-10 | ms/batch  3.52 | loss  5.98 | ppl   396.71\n",
      "| epoch  17 | 20000/59674 batches | lr 4.76837158203125e-10 | ms/batch  3.53 | loss  5.92 | ppl   370.95\n",
      "| epoch  17 | 30000/59674 batches | lr 4.76837158203125e-10 | ms/batch  3.53 | loss  5.86 | ppl   349.19\n",
      "| epoch  17 | 40000/59674 batches | lr 4.76837158203125e-10 | ms/batch  3.54 | loss  5.91 | ppl   366.92\n",
      "| epoch  17 | 50000/59674 batches | lr 4.76837158203125e-10 | ms/batch  3.53 | loss  5.95 | ppl   383.62\n",
      "\n",
      "--- Evaluation ---\n",
      "-----------------------------------------------------------------------------------------\n",
      "| end of epoch  17 | valid loss  6.42 | valid ppl   612.02\n",
      "-----------------------------------------------------------------------------------------\n",
      "\n",
      "--- Training: 19 ---\n",
      "| epoch  18 |     0/59674 batches | lr 1.1920928955078125e-10 | ms/batch  0.00 | loss  5.81 | ppl   333.01\n",
      "| epoch  18 | 10000/59674 batches | lr 1.1920928955078125e-10 | ms/batch  3.54 | loss  5.96 | ppl   386.23\n",
      "| epoch  18 | 20000/59674 batches | lr 1.1920928955078125e-10 | ms/batch  3.54 | loss  5.91 | ppl   369.95\n",
      "| epoch  18 | 30000/59674 batches | lr 1.1920928955078125e-10 | ms/batch  3.55 | loss  5.84 | ppl   343.68\n",
      "| epoch  18 | 40000/59674 batches | lr 1.1920928955078125e-10 | ms/batch  3.53 | loss  5.90 | ppl   364.24\n",
      "| epoch  18 | 50000/59674 batches | lr 1.1920928955078125e-10 | ms/batch  3.53 | loss  5.95 | ppl   382.32\n",
      "\n",
      "--- Evaluation ---\n",
      "-----------------------------------------------------------------------------------------\n",
      "| end of epoch  18 | valid loss  6.42 | valid ppl   611.74\n",
      "-----------------------------------------------------------------------------------------\n",
      "\n",
      "--- Training: 20 ---\n",
      "| epoch  19 |     0/59674 batches | lr 2.980232238769531e-11 | ms/batch  0.00 | loss  5.80 | ppl   330.12\n",
      "| epoch  19 | 10000/59674 batches | lr 2.980232238769531e-11 | ms/batch  3.53 | loss  5.96 | ppl   387.58\n",
      "| epoch  19 | 20000/59674 batches | lr 2.980232238769531e-11 | ms/batch  3.52 | loss  5.91 | ppl   367.43\n",
      "| epoch  19 | 30000/59674 batches | lr 2.980232238769531e-11 | ms/batch  3.54 | loss  5.84 | ppl   343.08\n",
      "| epoch  19 | 40000/59674 batches | lr 2.980232238769531e-11 | ms/batch  3.53 | loss  5.90 | ppl   364.44\n",
      "| epoch  19 | 50000/59674 batches | lr 2.980232238769531e-11 | ms/batch  3.53 | loss  5.94 | ppl   380.25\n",
      "\n",
      "--- Evaluation ---\n",
      "-----------------------------------------------------------------------------------------\n",
      "| end of epoch  19 | valid loss  6.43 | valid ppl   620.18\n",
      "-----------------------------------------------------------------------------------------\n"
     ]
    }
   ],
   "source": [
    "lr = args.lr\n",
    "criterion = nn.NLLLoss()\n",
    "ntokens = len(corpus.dictionary)\n",
    "model = FNNModel(ntokens, args.emsize, args.ngram, args.emsize).to(device)\n",
    "optimizer = optim.Adam(model.parameters(), lr = lr)\n",
    "\n",
    "best_perplexity = None\n",
    "total_loss = 0\n",
    "\n",
    "hist_loss = []\n",
    "hist_perplexity = []\n",
    "\n",
    "hist_val_loss = []\n",
    "hist_val_perplexity = []\n",
    "\n",
    "for epoch in range(args.epochs):\n",
    "    start_time = time.time()\n",
    "    \n",
    "    epoch_loss = 0\n",
    "    epoch_perplexity = 0\n",
    "    \n",
    "    print(\"\\n--- Training: {} ---\".format(epoch+1))\n",
    "    for batch, i in enumerate(range(0, train_data.size(0) - 1, args.bptt)):\n",
    "        data, targets = get_batch(train_data, i)\n",
    "        model.zero_grad()\n",
    "        output = model(data)\n",
    "        loss = criterion(output, targets)\n",
    "        loss.backward()\n",
    "        optimizer.step()\n",
    "        \n",
    "        total_loss += loss.item()\n",
    "        epoch_loss += loss.item()\n",
    "        epoch_perplexity += math.exp(loss.item())\n",
    "\n",
    "        if batch % args.log_interval == 0 and batch >= 0:\n",
    "            cur_loss = total_loss / args.log_interval\n",
    "            elapsed = time.time() - start_time\n",
    "            print('| epoch {:3d} | {:5d}/{:5d} batches | lr {} | ms/batch {:5.2f} | '\n",
    "                  'loss {:5.2f} | ppl {:8.2f}'.format(\n",
    "                      epoch, batch, len(train_data) // args.bptt, lr,\n",
    "                      elapsed * 1000 / args.log_interval, cur_loss, math.exp(cur_loss)))\n",
    "            total_loss = 0\n",
    "            start_time = time.time()\n",
    "    \n",
    "    hist_loss.append(epoch_loss / batch)\n",
    "    hist_perplexity.append(epoch_perplexity / batch)\n",
    "\n",
    "    print(\"\\n--- Evaluation ---\")\n",
    "    crossval_loss = evaluate(model, val_data)\n",
    "    crossval_perplexity = math.exp(crossval_loss)\n",
    "    print('-' * 89)\n",
    "    print('| end of epoch {:3d} | valid loss {:5.2f} | '\n",
    "              'valid ppl {:8.2f}'.format(epoch, crossval_loss, crossval_perplexity))\n",
    "    print('-' * 89)\n",
    "    \n",
    "    hist_val_loss.append(crossval_loss)\n",
    "    hist_val_perplexity.append(crossval_perplexity)\n",
    "    \n",
    "    if not best_perplexity or crossval_perplexity < best_perplexity:\n",
    "        best_perplexity = crossval_perplexity\n",
    "        with open(args.save, 'wb') as f:\n",
    "            torch.save(model, f)\n",
    "    else:\n",
    "        lr /= 4.0"
   ]
  },
  {
   "cell_type": "code",
   "execution_count": 14,
   "id": "99dea581",
   "metadata": {
    "execution": {
     "iopub.execute_input": "2021-11-10T02:12:48.937639Z",
     "iopub.status.busy": "2021-11-10T02:12:48.937036Z",
     "iopub.status.idle": "2021-11-10T02:12:49.240253Z",
     "shell.execute_reply": "2021-11-10T02:12:49.239683Z",
     "shell.execute_reply.started": "2021-11-08T11:39:24.89373Z"
    },
    "executionInfo": {
     "elapsed": 2521,
     "status": "ok",
     "timestamp": 1606640626922,
     "user": {
      "displayName": "yong wei",
      "photoUrl": "https://lh3.googleusercontent.com/a-/AOh14GhYJ6D3p-i8GPWEqh4u2s4VniV_lHZd6l3-eHSaqA=s64",
      "userId": "07110467073693299033"
     },
     "user_tz": -480
    },
    "id": "MZxWl-TL8wGH",
    "outputId": "8802f3f5-19b0-4a6f-d722-4ec757c824c0",
    "papermill": {
     "duration": 0.413434,
     "end_time": "2021-11-10T02:12:49.240366",
     "exception": false,
     "start_time": "2021-11-10T02:12:48.826932",
     "status": "completed"
    },
    "tags": []
   },
   "outputs": [
    {
     "data": {
      "image/png": "[encoded data removed]",
      "text/plain": [
       "<Figure size 432x432 with 1 Axes>"
      ]
     },
     "metadata": {},
     "output_type": "display_data"
    }
   ],
   "source": [
    "plt.style.use(\"seaborn\")\n",
    "\n",
    "fig = plt.figure(figsize =(6, 6))\n",
    "plt.plot(hist_loss)\n",
    "plt.plot(hist_val_loss)\n",
    "plt.title('Model Loss Plot (Shared Weights)')\n",
    "plt.ylabel('Loss')\n",
    "plt.xlabel('Epoch')\n",
    "plt.legend(['train', 'val'])\n",
    "plt.show()\n",
    "\n",
    "fig.savefig('loss_shared.png', bbox_inches='tight')"
   ]
  },
  {
   "cell_type": "code",
   "execution_count": 15,
   "id": "959888e9",
   "metadata": {
    "execution": {
     "iopub.execute_input": "2021-11-10T02:12:49.446696Z",
     "iopub.status.busy": "2021-11-10T02:12:49.432406Z",
     "iopub.status.idle": "2021-11-10T02:12:49.738122Z",
     "shell.execute_reply": "2021-11-10T02:12:49.738645Z",
     "shell.execute_reply.started": "2021-11-08T11:39:24.895566Z"
    },
    "executionInfo": {
     "elapsed": 3343,
     "status": "ok",
     "timestamp": 1606640627749,
     "user": {
      "displayName": "yong wei",
      "photoUrl": "https://lh3.googleusercontent.com/a-/AOh14GhYJ6D3p-i8GPWEqh4u2s4VniV_lHZd6l3-eHSaqA=s64",
      "userId": "07110467073693299033"
     },
     "user_tz": -480
    },
    "id": "tlUufvQbPF7y",
    "outputId": "c9fcacf4-2093-442c-a328-9c6c14e9a6ca",
    "papermill": {
     "duration": 0.405383,
     "end_time": "2021-11-10T02:12:49.738815",
     "exception": false,
     "start_time": "2021-11-10T02:12:49.333432",
     "status": "completed"
    },
    "tags": []
   },
   "outputs": [
    {
     "data": {
      "image/png": "[encoded data removed]",
      "text/plain": [
       "<Figure size 432x432 with 1 Axes>"
      ]
     },
     "metadata": {},
     "output_type": "display_data"
    }
   ],
   "source": [
    "plt.style.use(\"seaborn\")\n",
    "\n",
    "fig = plt.figure(figsize =(6, 6))\n",
    "plt.plot(hist_perplexity)\n",
    "plt.plot(hist_val_perplexity)\n",
    "plt.title('Model Perplexity Plot (Shared Weights)')\n",
    "plt.ylabel('Perplexity')\n",
    "plt.xlabel('Epoch')\n",
    "plt.legend(['train', 'val'])\n",
    "plt.show()\n",
    "\n",
    "fig.savefig('ppl_shared.png', bbox_inches='tight')"
   ]
  },
  {
   "cell_type": "code",
   "execution_count": 16,
   "id": "69b70ae6",
   "metadata": {
    "execution": {
     "iopub.execute_input": "2021-11-10T02:12:49.932849Z",
     "iopub.status.busy": "2021-11-10T02:12:49.931885Z",
     "iopub.status.idle": "2021-11-10T02:12:52.848587Z",
     "shell.execute_reply": "2021-11-10T02:12:52.848986Z"
    },
    "papermill": {
     "duration": 3.016785,
     "end_time": "2021-11-10T02:12:52.849141",
     "exception": false,
     "start_time": "2021-11-10T02:12:49.832356",
     "status": "completed"
    },
    "tags": []
   },
   "outputs": [
    {
     "name": "stdout",
     "output_type": "stream",
     "text": [
      "-----------------------------------------------------------------------------------------\n",
      "| test loss  6.30 | test ppl   544.12\n",
      "-----------------------------------------------------------------------------------------\n"
     ]
    }
   ],
   "source": [
    "with open(args.save, 'rb') as f:\n",
    "    model = torch.load(f)\n",
    "\n",
    "test_loss = evaluate(model, test_data)\n",
    "print('-' * 89)\n",
    "print('| test loss {:5.2f} | test ppl {:8.2f}'.format(test_loss, math.exp(test_loss)))\n",
    "print('-' * 89)"
   ]
  },
  {
   "cell_type": "markdown",
   "id": "fa44eeaa",
   "metadata": {
    "id": "QSqiP5zCPTiY",
    "papermill": {
     "duration": 0.094256,
     "end_time": "2021-11-10T02:12:53.038248",
     "exception": false,
     "start_time": "2021-11-10T02:12:52.943992",
     "status": "completed"
    },
    "tags": []
   },
   "source": [
    "## 1.7 Generate Texts using our Language Model (FNNModel)\n",
    "> **Source:** PyTorch Examples - https://github.com/pytorch/examples/blob/master/word_language_model/generate.py"
   ]
  },
  {
   "cell_type": "code",
   "execution_count": 17,
   "id": "adbd65b7",
   "metadata": {
    "execution": {
     "iopub.execute_input": "2021-11-10T02:12:53.230194Z",
     "iopub.status.busy": "2021-11-10T02:12:53.229404Z",
     "iopub.status.idle": "2021-11-10T02:12:53.231882Z",
     "shell.execute_reply": "2021-11-10T02:12:53.231473Z",
     "shell.execute_reply.started": "2021-11-08T11:39:24.89725Z"
    },
    "executionInfo": {
     "elapsed": 799,
     "status": "ok",
     "timestamp": 1606640913501,
     "user": {
      "displayName": "yong wei",
      "photoUrl": "https://lh3.googleusercontent.com/a-/AOh14GhYJ6D3p-i8GPWEqh4u2s4VniV_lHZd6l3-eHSaqA=s64",
      "userId": "07110467073693299033"
     },
     "user_tz": -480
    },
    "id": "8OsRNWPIPk2l",
    "papermill": {
     "duration": 0.10011,
     "end_time": "2021-11-10T02:12:53.231991",
     "exception": false,
     "start_time": "2021-11-10T02:12:53.131881",
     "status": "completed"
    },
    "tags": []
   },
   "outputs": [],
   "source": [
    "class Parameters:\n",
    "    checkpoint = './model.pt'\n",
    "    data = '../input/wikitext2'\n",
    "    outf = 'generated.txt'\n",
    "    words = 1000\n",
    "    seed = 1111\n",
    "    cuda =  True\n",
    "    temperature = 1.0\n",
    "    log_interval = 100\n",
    "\n",
    "args = Parameters()"
   ]
  },
  {
   "cell_type": "code",
   "execution_count": 18,
   "id": "f0455f38",
   "metadata": {
    "execution": {
     "iopub.execute_input": "2021-11-10T02:12:53.430620Z",
     "iopub.status.busy": "2021-11-10T02:12:53.429500Z",
     "iopub.status.idle": "2021-11-10T02:12:58.447068Z",
     "shell.execute_reply": "2021-11-10T02:12:58.446623Z",
     "shell.execute_reply.started": "2021-11-08T11:39:24.89899Z"
    },
    "executionInfo": {
     "elapsed": 1952,
     "status": "ok",
     "timestamp": 1606640916117,
     "user": {
      "displayName": "yong wei",
      "photoUrl": "https://lh3.googleusercontent.com/a-/AOh14GhYJ6D3p-i8GPWEqh4u2s4VniV_lHZd6l3-eHSaqA=s64",
      "userId": "07110467073693299033"
     },
     "user_tz": -480
    },
    "id": "bQrpi_BxPv6T",
    "outputId": "64675b03-1393-4551-e340-96ebd14a1c16",
    "papermill": {
     "duration": 5.120273,
     "end_time": "2021-11-10T02:12:58.447200",
     "exception": false,
     "start_time": "2021-11-10T02:12:53.326927",
     "status": "completed"
    },
    "tags": []
   },
   "outputs": [
    {
     "name": "stdout",
     "output_type": "stream",
     "text": [
      "| Generated 0/1000 words\n",
      "| Generated 100/1000 words\n",
      "| Generated 200/1000 words\n",
      "| Generated 300/1000 words\n",
      "| Generated 400/1000 words\n",
      "| Generated 500/1000 words\n",
      "| Generated 600/1000 words\n",
      "| Generated 700/1000 words\n",
      "| Generated 800/1000 words\n",
      "| Generated 900/1000 words\n"
     ]
    }
   ],
   "source": [
    "with open(args.checkpoint, 'rb') as f:\n",
    "    model = torch.load(f)\n",
    "\n",
    "model.eval()\n",
    "\n",
    "corpus = Corpus(args.data)\n",
    "ntokens = len(corpus.dictionary)\n",
    "\n",
    "input = torch.randint(ntokens, (1, 8), dtype=torch.long).to(device)\n",
    "with open(args.outf, 'w') as outf:\n",
    "    with torch.no_grad():  # no tracking history\n",
    "        for i in range(args.words):\n",
    "            output = model(input)\n",
    "            word_weights = output.squeeze().div(args.temperature).exp().cpu()\n",
    "            word_idx = torch.multinomial(word_weights, 1)[0]\n",
    "            input.fill_(word_idx)\n",
    "\n",
    "            word = corpus.dictionary.idx2word[word_idx]\n",
    "\n",
    "            outf.write(word + ('\\n' if i % 20 == 19 else ' '))\n",
    "\n",
    "            if i % args.log_interval == 0:\n",
    "                print('| Generated {}/{} words'.format(i, args.words))"
   ]
  }
 ],
 "metadata": {
  "kernelspec": {
   "display_name": "Python 3",
   "language": "python",
   "name": "python3"
  },
  "language_info": {
   "codemirror_mode": {
    "name": "ipython",
    "version": 3
   },
   "file_extension": ".py",
   "mimetype": "text/x-python",
   "name": "python",
   "nbconvert_exporter": "python",
   "pygments_lexer": "ipython3",
   "version": "3.7.10"
  },
  "papermill": {
   "default_parameters": {},
   "duration": 8595.965437,
   "end_time": "2021-11-10T02:12:59.569618",
   "environment_variables": {},
   "exception": null,
   "input_path": "__notebook__.ipynb",
   "output_path": "__notebook__.ipynb",
   "parameters": {},
   "start_time": "2021-11-09T23:49:43.604181",
   "version": "2.3.3"
  }
 },
 "nbformat": 4,
 "nbformat_minor": 5
}
